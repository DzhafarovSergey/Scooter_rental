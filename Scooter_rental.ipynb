{
 "cells": [
  {
   "cell_type": "markdown",
   "id": "cb4d567a",
   "metadata": {},
   "source": [
    "# Описание проекта"
   ]
  },
  {
   "cell_type": "markdown",
   "id": "8b042786",
   "metadata": {},
   "source": [
    "**Цель проекта**\n",
    "\n",
    "\n",
    "Чтобы совершать поездки по городу, пользователи сервиса GoFast пользуются мобильным приложением. Сервисом можно пользоваться:\n",
    "1. Без подписки\n",
    " - абонентская плата отсутствует;\n",
    " - стоимость одной минуты поездки — 8 рублей;\n",
    " - Стоимость старта (начала поездки) — 50 рублей;\n",
    "2. С подпиской Ultra\n",
    " - абонентская плата — 199 рублей в месяц;\n",
    " - стоимость одной минуты поездки — 6 рублей;\n",
    " - стоимость старта — бесплатно.\n",
    " \n",
    " \n",
    " **Описание данных**\n",
    " \n",
    " \n",
    " Пользователи — users_go.csv\n",
    "\n",
    "- user_id\tуникальный идентификатор пользователя\n",
    "- name\tимя пользователя\n",
    "- age\tвозраст\n",
    "- city\tгород\n",
    "- subscription_type\tтип подписки (free, ultra)\n",
    "\n",
    "Поездки — rides_go.csv\n",
    "\n",
    "- user_id\tуникальный идентификатор пользователя\n",
    "- distance\tрасстояние, которое пользователь проехал в текущей сессии (в метрах)\n",
    "- duration\tпродолжительность сессии (в минутах) — время с того момента, как пользователь нажал кнопку «Начать поездку» до момента, как он нажал кнопку «Завершить поездку»\n",
    "- date\tдата совершения поездки\n",
    "\n",
    "Подписки — subscriptions_go.csv\n",
    "\n",
    "- subscription_type\tтип подписки\n",
    "- minute_price\tстоимость одной минуты поездки по данной подписке\n",
    "- start_ride_price\tстоимость начала поездки\n",
    "- subscription_fee\tстоимость ежемесячного платежа"
   ]
  },
  {
   "cell_type": "markdown",
   "id": "1e8f8cfe",
   "metadata": {},
   "source": [
    "**Цель иследования**\n",
    "\n",
    "\"Менеджеры хотят увеличить кол - во новых пользователей\" для этого необходимо:\n",
    "\n",
    "- Узнать тратят ли пользователи с подпиской больше времени на поездки;\n",
    "- Будет ли выручка пользователей с подпиской выше чем выручка от пользователей без подписки\n",
    "- Растояни которое преодалевают пользователи с подпиской\n",
    "\n",
    "**Ход иследования**\n",
    "\n",
    "1. Произведу чтение предоставленых данных\n",
    "2. Посмотрю из чего состоят данные\n",
    "3. По необходимости приведу данные к одному типу\n",
    "4. Проверим аномальные данные\n",
    "5. Присутствие пустых значений и дубликотов\n",
    "6. Проведем анализ текущих данных и сделаем вывод\n",
    "7. Проверим необходимы гипотезы\n",
    "8. Сделаем общий вывод"
   ]
  },
  {
   "cell_type": "markdown",
   "id": "dab501e7",
   "metadata": {},
   "source": [
    "## Импорт необходимых библиотек"
   ]
  },
  {
   "cell_type": "code",
   "execution_count": 1,
   "id": "72576667",
   "metadata": {},
   "outputs": [],
   "source": [
    "import pandas as pd\n",
    "import numpy as np\n",
    "%matplotlib inline\n",
    "import matplotlib.pyplot as plt\n",
    "from scipy import stats as st"
   ]
  },
  {
   "cell_type": "markdown",
   "id": "c42cbe00",
   "metadata": {},
   "source": [
    "##  Загрузка данных"
   ]
  },
  {
   "cell_type": "code",
   "execution_count": 2,
   "id": "eff9f206",
   "metadata": {},
   "outputs": [],
   "source": [
    "data_user = pd.read_csv('/datasets/users_go.csv')\n",
    "data_rides = pd.read_csv('/datasets/rides_go.csv')\n",
    "data_subscription = pd.read_csv('/datasets/subscriptions_go.csv')"
   ]
  },
  {
   "cell_type": "code",
   "execution_count": 3,
   "id": "cbd36bd6",
   "metadata": {},
   "outputs": [
    {
     "name": "stdout",
     "output_type": "stream",
     "text": [
      "Вывод данных о Пользователях\n"
     ]
    },
    {
     "data": {
      "text/html": [
       "<div>\n",
       "<style scoped>\n",
       "    .dataframe tbody tr th:only-of-type {\n",
       "        vertical-align: middle;\n",
       "    }\n",
       "\n",
       "    .dataframe tbody tr th {\n",
       "        vertical-align: top;\n",
       "    }\n",
       "\n",
       "    .dataframe thead th {\n",
       "        text-align: right;\n",
       "    }\n",
       "</style>\n",
       "<table border=\"1\" class=\"dataframe\">\n",
       "  <thead>\n",
       "    <tr style=\"text-align: right;\">\n",
       "      <th></th>\n",
       "      <th>user_id</th>\n",
       "      <th>name</th>\n",
       "      <th>age</th>\n",
       "      <th>city</th>\n",
       "      <th>subscription_type</th>\n",
       "    </tr>\n",
       "  </thead>\n",
       "  <tbody>\n",
       "    <tr>\n",
       "      <th>0</th>\n",
       "      <td>1</td>\n",
       "      <td>Кира</td>\n",
       "      <td>22</td>\n",
       "      <td>Тюмень</td>\n",
       "      <td>ultra</td>\n",
       "    </tr>\n",
       "    <tr>\n",
       "      <th>1</th>\n",
       "      <td>2</td>\n",
       "      <td>Станислав</td>\n",
       "      <td>31</td>\n",
       "      <td>Омск</td>\n",
       "      <td>ultra</td>\n",
       "    </tr>\n",
       "  </tbody>\n",
       "</table>\n",
       "</div>"
      ],
      "text/plain": [
       "   user_id       name  age    city subscription_type\n",
       "0        1       Кира   22  Тюмень             ultra\n",
       "1        2  Станислав   31    Омск             ultra"
      ]
     },
     "metadata": {},
     "output_type": "display_data"
    },
    {
     "name": "stdout",
     "output_type": "stream",
     "text": [
      "Вывод данных о Поездках\n"
     ]
    },
    {
     "data": {
      "text/html": [
       "<div>\n",
       "<style scoped>\n",
       "    .dataframe tbody tr th:only-of-type {\n",
       "        vertical-align: middle;\n",
       "    }\n",
       "\n",
       "    .dataframe tbody tr th {\n",
       "        vertical-align: top;\n",
       "    }\n",
       "\n",
       "    .dataframe thead th {\n",
       "        text-align: right;\n",
       "    }\n",
       "</style>\n",
       "<table border=\"1\" class=\"dataframe\">\n",
       "  <thead>\n",
       "    <tr style=\"text-align: right;\">\n",
       "      <th></th>\n",
       "      <th>user_id</th>\n",
       "      <th>distance</th>\n",
       "      <th>duration</th>\n",
       "      <th>date</th>\n",
       "    </tr>\n",
       "  </thead>\n",
       "  <tbody>\n",
       "    <tr>\n",
       "      <th>0</th>\n",
       "      <td>1</td>\n",
       "      <td>4409.919140</td>\n",
       "      <td>25.599769</td>\n",
       "      <td>2021-01-01</td>\n",
       "    </tr>\n",
       "    <tr>\n",
       "      <th>1</th>\n",
       "      <td>1</td>\n",
       "      <td>2617.592153</td>\n",
       "      <td>15.816871</td>\n",
       "      <td>2021-01-18</td>\n",
       "    </tr>\n",
       "  </tbody>\n",
       "</table>\n",
       "</div>"
      ],
      "text/plain": [
       "   user_id     distance   duration        date\n",
       "0        1  4409.919140  25.599769  2021-01-01\n",
       "1        1  2617.592153  15.816871  2021-01-18"
      ]
     },
     "metadata": {},
     "output_type": "display_data"
    },
    {
     "name": "stdout",
     "output_type": "stream",
     "text": [
      "Вывод данных о Подписках\n"
     ]
    },
    {
     "data": {
      "text/html": [
       "<div>\n",
       "<style scoped>\n",
       "    .dataframe tbody tr th:only-of-type {\n",
       "        vertical-align: middle;\n",
       "    }\n",
       "\n",
       "    .dataframe tbody tr th {\n",
       "        vertical-align: top;\n",
       "    }\n",
       "\n",
       "    .dataframe thead th {\n",
       "        text-align: right;\n",
       "    }\n",
       "</style>\n",
       "<table border=\"1\" class=\"dataframe\">\n",
       "  <thead>\n",
       "    <tr style=\"text-align: right;\">\n",
       "      <th></th>\n",
       "      <th>subscription_type</th>\n",
       "      <th>minute_price</th>\n",
       "      <th>start_ride_price</th>\n",
       "      <th>subscription_fee</th>\n",
       "    </tr>\n",
       "  </thead>\n",
       "  <tbody>\n",
       "    <tr>\n",
       "      <th>0</th>\n",
       "      <td>free</td>\n",
       "      <td>8</td>\n",
       "      <td>50</td>\n",
       "      <td>0</td>\n",
       "    </tr>\n",
       "    <tr>\n",
       "      <th>1</th>\n",
       "      <td>ultra</td>\n",
       "      <td>6</td>\n",
       "      <td>0</td>\n",
       "      <td>199</td>\n",
       "    </tr>\n",
       "  </tbody>\n",
       "</table>\n",
       "</div>"
      ],
      "text/plain": [
       "  subscription_type  minute_price  start_ride_price  subscription_fee\n",
       "0              free             8                50                 0\n",
       "1             ultra             6                 0               199"
      ]
     },
     "metadata": {},
     "output_type": "display_data"
    }
   ],
   "source": [
    "print('Вывод данных о Пользователях')\n",
    "display(data_user.head(2))\n",
    "print('Вывод данных о Поездках')\n",
    "display(data_rides.head(2))\n",
    "print('Вывод данных о Подписках')\n",
    "display(data_subscription.head(5))"
   ]
  },
  {
   "cell_type": "code",
   "execution_count": 4,
   "id": "df111c81",
   "metadata": {},
   "outputs": [
    {
     "name": "stdout",
     "output_type": "stream",
     "text": [
      "Вывод информации о Пользователях\n",
      "<class 'pandas.core.frame.DataFrame'>\n",
      "RangeIndex: 1565 entries, 0 to 1564\n",
      "Data columns (total 5 columns):\n",
      " #   Column             Non-Null Count  Dtype \n",
      "---  ------             --------------  ----- \n",
      " 0   user_id            1565 non-null   int64 \n",
      " 1   name               1565 non-null   object\n",
      " 2   age                1565 non-null   int64 \n",
      " 3   city               1565 non-null   object\n",
      " 4   subscription_type  1565 non-null   object\n",
      "dtypes: int64(2), object(3)\n",
      "memory usage: 61.3+ KB\n"
     ]
    }
   ],
   "source": [
    "print('Вывод информации о Пользователях')\n",
    "data_user.info()"
   ]
  },
  {
   "cell_type": "code",
   "execution_count": 5,
   "id": "c05677b2",
   "metadata": {},
   "outputs": [
    {
     "name": "stdout",
     "output_type": "stream",
     "text": [
      "Вывод информации о Поездках\n",
      "<class 'pandas.core.frame.DataFrame'>\n",
      "RangeIndex: 18068 entries, 0 to 18067\n",
      "Data columns (total 4 columns):\n",
      " #   Column    Non-Null Count  Dtype  \n",
      "---  ------    --------------  -----  \n",
      " 0   user_id   18068 non-null  int64  \n",
      " 1   distance  18068 non-null  float64\n",
      " 2   duration  18068 non-null  float64\n",
      " 3   date      18068 non-null  object \n",
      "dtypes: float64(2), int64(1), object(1)\n",
      "memory usage: 564.8+ KB\n"
     ]
    }
   ],
   "source": [
    "print('Вывод информации о Поездках')\n",
    "data_rides.info()"
   ]
  },
  {
   "cell_type": "code",
   "execution_count": 6,
   "id": "facb1425",
   "metadata": {},
   "outputs": [
    {
     "name": "stdout",
     "output_type": "stream",
     "text": [
      "Вывод информации о Подписках\n",
      "<class 'pandas.core.frame.DataFrame'>\n",
      "RangeIndex: 2 entries, 0 to 1\n",
      "Data columns (total 4 columns):\n",
      " #   Column             Non-Null Count  Dtype \n",
      "---  ------             --------------  ----- \n",
      " 0   subscription_type  2 non-null      object\n",
      " 1   minute_price       2 non-null      int64 \n",
      " 2   start_ride_price   2 non-null      int64 \n",
      " 3   subscription_fee   2 non-null      int64 \n",
      "dtypes: int64(3), object(1)\n",
      "memory usage: 192.0+ bytes\n"
     ]
    }
   ],
   "source": [
    "print('Вывод информации о Подписках')\n",
    "data_subscription.info()"
   ]
  },
  {
   "cell_type": "markdown",
   "id": "c9c02c63",
   "metadata": {},
   "source": [
    "**Вывод**\n",
    "\n",
    "- Для данных о Пользователях - 1565 строк\n",
    "\n",
    "- Для данных о Поездках - 18064 строк\n",
    "    - для колонки date необходимо изменить тип поля\n",
    "    \n",
    "- Для данных о Подписках - 2 строки\n"
   ]
  },
  {
   "cell_type": "markdown",
   "id": "4ac6c442",
   "metadata": {},
   "source": [
    "## Предобработка данных"
   ]
  },
  {
   "cell_type": "markdown",
   "id": "7fb6556c",
   "metadata": {},
   "source": [
    "###  Приведение к типу данных"
   ]
  },
  {
   "cell_type": "code",
   "execution_count": 7,
   "id": "4e91c0e2",
   "metadata": {},
   "outputs": [],
   "source": [
    "data_rides['date'] = pd.to_datetime(data_rides['date'], format='%Y-%m-%d')"
   ]
  },
  {
   "cell_type": "code",
   "execution_count": 8,
   "id": "2b789e50",
   "metadata": {},
   "outputs": [
    {
     "name": "stdout",
     "output_type": "stream",
     "text": [
      "<class 'pandas.core.frame.DataFrame'>\n",
      "RangeIndex: 18068 entries, 0 to 18067\n",
      "Data columns (total 4 columns):\n",
      " #   Column    Non-Null Count  Dtype         \n",
      "---  ------    --------------  -----         \n",
      " 0   user_id   18068 non-null  int64         \n",
      " 1   distance  18068 non-null  float64       \n",
      " 2   duration  18068 non-null  float64       \n",
      " 3   date      18068 non-null  datetime64[ns]\n",
      "dtypes: datetime64[ns](1), float64(2), int64(1)\n",
      "memory usage: 564.8 KB\n"
     ]
    }
   ],
   "source": [
    "data_rides.info()"
   ]
  },
  {
   "cell_type": "markdown",
   "id": "9beed668",
   "metadata": {},
   "source": [
    "### Проверка наличия аномалий в столбце date"
   ]
  },
  {
   "cell_type": "code",
   "execution_count": 9,
   "id": "d817f399",
   "metadata": {},
   "outputs": [
    {
     "name": "stdout",
     "output_type": "stream",
     "text": [
      "Начальная дата выборки: 2021-01-01 00:00:00\n",
      "Конечная дата выборки: 2021-12-30 00:00:00\n"
     ]
    }
   ],
   "source": [
    "print('Начальная дата выборки:', data_rides['date'].min())\n",
    "print('Конечная дата выборки:',data_rides['date'].max())\n"
   ]
  },
  {
   "cell_type": "markdown",
   "id": "50d39f2d",
   "metadata": {},
   "source": [
    "### Добавление нового столбца"
   ]
  },
  {
   "cell_type": "code",
   "execution_count": 10,
   "id": "3003394a",
   "metadata": {},
   "outputs": [
    {
     "name": "stdout",
     "output_type": "stream",
     "text": [
      "<class 'pandas.core.frame.DataFrame'>\n",
      "RangeIndex: 18068 entries, 0 to 18067\n",
      "Data columns (total 5 columns):\n",
      " #   Column    Non-Null Count  Dtype         \n",
      "---  ------    --------------  -----         \n",
      " 0   user_id   18068 non-null  int64         \n",
      " 1   distance  18068 non-null  float64       \n",
      " 2   duration  18068 non-null  float64       \n",
      " 3   date      18068 non-null  datetime64[ns]\n",
      " 4   month     18068 non-null  int64         \n",
      "dtypes: datetime64[ns](1), float64(2), int64(2)\n",
      "memory usage: 705.9 KB\n"
     ]
    }
   ],
   "source": [
    "data_rides['month'] = data_rides['date'].dt.month\n",
    "data_rides.info()"
   ]
  },
  {
   "cell_type": "markdown",
   "id": "9ca7e875",
   "metadata": {},
   "source": [
    "### Проверка на дубликаты"
   ]
  },
  {
   "cell_type": "code",
   "execution_count": 11,
   "id": "e344355d",
   "metadata": {},
   "outputs": [
    {
     "name": "stdout",
     "output_type": "stream",
     "text": [
      "ДУБЛИ в данных о Пользователях: 31\n",
      "ДУБЛИ в данных о Поездках: 0\n",
      "ДУБЛИ в данных о Подписках: 0\n"
     ]
    }
   ],
   "source": [
    "print('ДУБЛИ в данных о Пользователях:', data_user['user_id'].duplicated().sum())\n",
    "print('ДУБЛИ в данных о Поездках:', data_rides.duplicated().sum())\n",
    "print('ДУБЛИ в данных о Подписках:', data_subscription.duplicated().sum())\n"
   ]
  },
  {
   "cell_type": "code",
   "execution_count": 12,
   "id": "2329695e",
   "metadata": {},
   "outputs": [
    {
     "name": "stdout",
     "output_type": "stream",
     "text": [
      "ДУБЛИ в данных о Пользователях: 0\n"
     ]
    }
   ],
   "source": [
    "data_user = data_user.drop_duplicates().reset_index(drop=True)\n",
    "print('ДУБЛИ в данных о Пользователях:', data_user['user_id'].duplicated().sum())"
   ]
  },
  {
   "cell_type": "markdown",
   "id": "d01d7ceb",
   "metadata": {},
   "source": [
    "**Вывод**\n",
    "\n",
    "На этапе предобработке данных были выполнены следующие действия:\n",
    "- Для dataframe data_rides был изменени тип данных в колонке date\n",
    "- Столбец date проверен на минимальное (2021-01-01) и максимальное (2021-12-30) значение, для исключения появления аномалий\n",
    "- Добавлен новый столбец month обозначающий месяц\n",
    "- Была выполнена проверка на дубли, все дубли из dataframe data_user были удалены\n",
    "\n",
    "Некорректный тип данных для столбца, скорее всего возник по причине не корректно сформированной выгрузки.\n",
    "\n",
    "Дубли могли возникнуть по причине сбоев работы системы или при выгрузке данных"
   ]
  },
  {
   "cell_type": "markdown",
   "id": "41433435",
   "metadata": {},
   "source": [
    "## Исследовательский анализ данных"
   ]
  },
  {
   "cell_type": "markdown",
   "id": "adf2dc09",
   "metadata": {},
   "source": [
    "### Частота встречаемости городов"
   ]
  },
  {
   "cell_type": "code",
   "execution_count": 13,
   "id": "b6dd97f4",
   "metadata": {},
   "outputs": [
    {
     "data": {
      "image/png": "[encoded data removed]",
      "text/plain": [
       "<Figure size 720x288 with 1 Axes>"
      ]
     },
     "metadata": {
      "needs_background": "light"
     },
     "output_type": "display_data"
    },
    {
     "data": {
      "text/plain": [
       "count          1534\n",
       "unique            8\n",
       "top       Пятигорск\n",
       "freq            219\n",
       "Name: city, dtype: object"
      ]
     },
     "execution_count": 13,
     "metadata": {},
     "output_type": "execute_result"
    }
   ],
   "source": [
    "(data_user\n",
    " .pivot_table(index='city', values='user_id', aggfunc='count')\n",
    " .sort_values(by='user_id',ascending=False)\n",
    " .plot(grid=True,kind='barh', figsize=(10, 4))\n",
    ")\n",
    "plt.title('Частота встречаемости городов');\n",
    "plt.ylabel('Города');\n",
    "plt.xlabel('Кол-во городов');\n",
    "\n",
    "plt.show()\n",
    "data_user['city'].describe()"
   ]
  },
  {
   "cell_type": "code",
   "execution_count": 14,
   "id": "41c4d331",
   "metadata": {},
   "outputs": [
    {
     "data": {
      "image/png": "[encoded data removed]",
      "text/plain": [
       "<Figure size 720x288 with 1 Axes>"
      ]
     },
     "metadata": {
      "needs_background": "light"
     },
     "output_type": "display_data"
    }
   ],
   "source": [
    "(data_user\n",
    " .pivot_table(index='city', values='user_id', aggfunc='count')\n",
    " .sort_values(by='user_id',ascending=False)\n",
    " .boxplot(grid=True, figsize=(10, 4))\n",
    ")\n",
    "plt.title('Частота встречаемости городов');\n",
    "plt.xlabel('Города');\n",
    "plt.ylabel('Кол-во городов');\n",
    "plt.show()"
   ]
  },
  {
   "cell_type": "markdown",
   "id": "2c507344",
   "metadata": {},
   "source": [
    "**вывод**\n",
    "\n",
    "    - Больше всего пользователей находится в городе Пятигорск\n",
    "    - Меньше всего пользователей находится в городе Москва\n",
    "    - Аномальных значений выходящих за пределы не присутствует"
   ]
  },
  {
   "cell_type": "markdown",
   "id": "d7922011",
   "metadata": {},
   "source": [
    "### Соотношение пользователей с подпиской и без подписки"
   ]
  },
  {
   "cell_type": "code",
   "execution_count": 15,
   "id": "1b78da72",
   "metadata": {},
   "outputs": [
    {
     "data": {
      "image/png": "[encoded data removed]",
      "text/plain": [
       "<Figure size 576x432 with 1 Axes>"
      ]
     },
     "metadata": {},
     "output_type": "display_data"
    },
    {
     "data": {
      "text/plain": [
       "count     1534\n",
       "unique       2\n",
       "top       free\n",
       "freq       835\n",
       "Name: subscription_type, dtype: object"
      ]
     },
     "execution_count": 15,
     "metadata": {},
     "output_type": "execute_result"
    }
   ],
   "source": [
    "(data_user['subscription_type']\n",
    " .value_counts()\n",
    " .plot(kind='pie',labels=['Без подписки','С подпиской'],autopct=\"%0.2f%%\", figsize=(8, 6))\n",
    ")\n",
    "plt.title('Соотношение пользователей с подпиской')\n",
    "plt.ylabel('');\n",
    "\n",
    "plt.show()\n",
    "data_user['subscription_type'].describe()"
   ]
  },
  {
   "cell_type": "markdown",
   "id": "7579c0fa",
   "metadata": {},
   "source": [
    "**вывод**\n",
    "\n",
    "    - Кол-во пользователей без подписки 54.43%\n",
    "    - Кол- во пользователей с подпиской 45.57%"
   ]
  },
  {
   "cell_type": "markdown",
   "id": "29b5ce29",
   "metadata": {},
   "source": [
    "### Возраст пользователей"
   ]
  },
  {
   "cell_type": "code",
   "execution_count": 16,
   "id": "92aaeb96",
   "metadata": {},
   "outputs": [
    {
     "data": {
      "image/png": "[encoded data removed]",
      "text/plain": [
       "<Figure size 720x288 with 1 Axes>"
      ]
     },
     "metadata": {
      "needs_background": "light"
     },
     "output_type": "display_data"
    },
    {
     "data": {
      "text/plain": [
       "count    1534.000000\n",
       "mean       24.903520\n",
       "std         4.572367\n",
       "min        12.000000\n",
       "25%        22.000000\n",
       "50%        25.000000\n",
       "75%        28.000000\n",
       "max        43.000000\n",
       "Name: age, dtype: float64"
      ]
     },
     "execution_count": 16,
     "metadata": {},
     "output_type": "execute_result"
    }
   ],
   "source": [
    "(data_user['age']\n",
    " .value_counts()\n",
    " .plot(grid=True,style='o', figsize=(10, 4))\n",
    ")\n",
    "plt.title('Возраст пользователей')\n",
    "plt.ylabel('Кол-во')\n",
    "plt.xlabel('Возраст')\n",
    "plt.show()\n",
    "data_user['age'].describe()"
   ]
  },
  {
   "cell_type": "code",
   "execution_count": 17,
   "id": "d1854cf8",
   "metadata": {},
   "outputs": [
    {
     "data": {
      "image/png": "[encoded data removed]",
      "text/plain": [
       "<Figure size 720x288 with 1 Axes>"
      ]
     },
     "metadata": {
      "needs_background": "light"
     },
     "output_type": "display_data"
    }
   ],
   "source": [
    "data_user.boxplot(column='age',grid=True, figsize=(10, 4))\n",
    "plt.title('Возраст пользователей')\n",
    "plt.ylabel('Возраст')\n",
    "plt.xlabel('')\n",
    "plt.show()"
   ]
  },
  {
   "cell_type": "markdown",
   "id": "0e76fa57",
   "metadata": {},
   "source": [
    "**вывод**\n",
    "\n",
    "- Пользователей в [20 - 30] - больше остальных. Больше всего пользователей в возрасте 25 лет\n",
    "- Есть пользователи с возростом более 37 лет, так же присутствуют пользователи возрастом менее 15 лет"
   ]
  },
  {
   "cell_type": "markdown",
   "id": "af418d23",
   "metadata": {},
   "source": [
    "### Расстояние, которое пользователь преодолел за одну поездку"
   ]
  },
  {
   "cell_type": "code",
   "execution_count": 18,
   "id": "529d33dd",
   "metadata": {},
   "outputs": [
    {
     "data": {
      "image/png": "[encoded data removed]",
      "text/plain": [
       "<Figure size 720x360 with 1 Axes>"
      ]
     },
     "metadata": {
      "needs_background": "light"
     },
     "output_type": "display_data"
    },
    {
     "data": {
      "text/plain": [
       "count    18068.000000\n",
       "mean      3070.659976\n",
       "std       1116.831209\n",
       "min          0.855683\n",
       "25%       2543.226360\n",
       "50%       3133.609994\n",
       "75%       3776.222735\n",
       "max       7211.007745\n",
       "Name: distance, dtype: float64"
      ]
     },
     "execution_count": 18,
     "metadata": {},
     "output_type": "execute_result"
    }
   ],
   "source": [
    "data_rides['distance'].hist(bins=100, figsize = (10,5))\n",
    "plt.title('Расстояние поездок пользователей')\n",
    "plt.ylabel('Кол-во')\n",
    "plt.xlabel('Расстояние, м.')\n",
    "plt.show()\n",
    "\n",
    "data_rides['distance'].describe()"
   ]
  },
  {
   "cell_type": "code",
   "execution_count": 19,
   "id": "28be5f4a",
   "metadata": {},
   "outputs": [
    {
     "data": {
      "image/png": "[encoded data removed]",
      "text/plain": [
       "<Figure size 720x288 with 1 Axes>"
      ]
     },
     "metadata": {
      "needs_background": "light"
     },
     "output_type": "display_data"
    }
   ],
   "source": [
    "data_rides.boxplot(column='distance',grid=True, figsize=(10, 4))\n",
    "plt.title('Возраст пользователей')\n",
    "plt.ylabel('Возраст')\n",
    "plt.xlabel('')\n",
    "plt.show()\n"
   ]
  },
  {
   "cell_type": "markdown",
   "id": "abc8464f",
   "metadata": {},
   "source": [
    "**вывод**\n",
    "\n",
    "- Чаще всего пользователи арендуют технику для передвижения в промежутке [2.5 до 3.7] км\n",
    "- Присутствуют значения выходящие за пределы графика [5.5] км, так же присутствуют аномально низкие значения [0.8]км"
   ]
  },
  {
   "cell_type": "markdown",
   "id": "467b3ddc",
   "metadata": {},
   "source": [
    "### Продолжительность поездок"
   ]
  },
  {
   "cell_type": "code",
   "execution_count": 20,
   "id": "8db0158f",
   "metadata": {},
   "outputs": [
    {
     "data": {
      "image/png": "[encoded data removed]",
      "text/plain": [
       "<Figure size 720x360 with 1 Axes>"
      ]
     },
     "metadata": {
      "needs_background": "light"
     },
     "output_type": "display_data"
    },
    {
     "data": {
      "text/plain": [
       "count    18068.000000\n",
       "mean        17.805011\n",
       "std          6.091051\n",
       "min          0.500000\n",
       "25%         13.597563\n",
       "50%         17.678395\n",
       "75%         21.724800\n",
       "max         40.823963\n",
       "Name: duration, dtype: float64"
      ]
     },
     "execution_count": 20,
     "metadata": {},
     "output_type": "execute_result"
    }
   ],
   "source": [
    "data_rides['duration'].hist(bins=100, figsize = (10,5))\n",
    "plt.title('Продолжительность поездок пользователей')\n",
    "plt.ylabel('Кол-во')\n",
    "plt.xlabel('Время поездки')\n",
    "plt.show()\n",
    "\n",
    "data_rides['duration'].describe()"
   ]
  },
  {
   "cell_type": "code",
   "execution_count": 21,
   "id": "51f197f4",
   "metadata": {},
   "outputs": [
    {
     "data": {
      "image/png": "[encoded data removed]",
      "text/plain": [
       "<Figure size 720x288 with 1 Axes>"
      ]
     },
     "metadata": {
      "needs_background": "light"
     },
     "output_type": "display_data"
    }
   ],
   "source": [
    "data_rides.boxplot(column='duration',grid=True, figsize=(10, 4))\n",
    "plt.title('Возраст пользователей')\n",
    "plt.ylabel('Возраст')\n",
    "plt.xlabel('')\n",
    "plt.show()"
   ]
  },
  {
   "cell_type": "markdown",
   "id": "f6b25185",
   "metadata": {},
   "source": [
    "**вывод**\n",
    "- Чаще всего пользователи арендуют технику в промежутке [13 - 21] минут\n",
    "- Есть данные где аренда не продолжилась более 5 минут\n",
    "- Есть значения где аренда продолжалась более 34 минут"
   ]
  },
  {
   "cell_type": "markdown",
   "id": "d239be47",
   "metadata": {},
   "source": []
  },
  {
   "cell_type": "markdown",
   "id": "b44dbb24",
   "metadata": {},
   "source": [
    "**Вывод**\n",
    "1. Частота встречаемости городов: \n",
    "    - Больше всего пользователей находится в городе Пятигорск\n",
    "    - Меньше всего пользователей находится в городе Москва\n",
    "2. Сравнение пользователей с подпиской и без \n",
    "    - Кол-во пользователей без подписки 54.43%\n",
    "    - Кол- во пользователей с подпиской 45.57%\n",
    "3. Пользователей в [20 - 30] - больше остальных. Больше всего пользователей в возрасте 25 лет\n",
    "4. Чаще всего пользователи арендуют технику для передвижения в промежутке [2 до 4.5] км\n",
    "5. Чаще всего пользователи арендуют технику в промежутке [10 - 25] минут\n"
   ]
  },
  {
   "cell_type": "markdown",
   "id": "e7a8b8a1",
   "metadata": {},
   "source": [
    "## Объединение данных"
   ]
  },
  {
   "cell_type": "markdown",
   "id": "4ef51331",
   "metadata": {},
   "source": [
    "### Объединение данных о пользователях, поездках и подписках в один датафрейм"
   ]
  },
  {
   "cell_type": "markdown",
   "id": "158a9893",
   "metadata": {},
   "source": [
    "Уточняем размер датасетов"
   ]
  },
  {
   "cell_type": "code",
   "execution_count": 22,
   "id": "321216c4",
   "metadata": {},
   "outputs": [
    {
     "data": {
      "text/html": [
       "<div>\n",
       "<style scoped>\n",
       "    .dataframe tbody tr th:only-of-type {\n",
       "        vertical-align: middle;\n",
       "    }\n",
       "\n",
       "    .dataframe tbody tr th {\n",
       "        vertical-align: top;\n",
       "    }\n",
       "\n",
       "    .dataframe thead th {\n",
       "        text-align: right;\n",
       "    }\n",
       "</style>\n",
       "<table border=\"1\" class=\"dataframe\">\n",
       "  <thead>\n",
       "    <tr style=\"text-align: right;\">\n",
       "      <th></th>\n",
       "      <th>user_id</th>\n",
       "      <th>age</th>\n",
       "    </tr>\n",
       "  </thead>\n",
       "  <tbody>\n",
       "    <tr>\n",
       "      <th>count</th>\n",
       "      <td>1534.000000</td>\n",
       "      <td>1534.000000</td>\n",
       "    </tr>\n",
       "    <tr>\n",
       "      <th>mean</th>\n",
       "      <td>767.500000</td>\n",
       "      <td>24.903520</td>\n",
       "    </tr>\n",
       "    <tr>\n",
       "      <th>std</th>\n",
       "      <td>442.971971</td>\n",
       "      <td>4.572367</td>\n",
       "    </tr>\n",
       "    <tr>\n",
       "      <th>min</th>\n",
       "      <td>1.000000</td>\n",
       "      <td>12.000000</td>\n",
       "    </tr>\n",
       "    <tr>\n",
       "      <th>25%</th>\n",
       "      <td>384.250000</td>\n",
       "      <td>22.000000</td>\n",
       "    </tr>\n",
       "    <tr>\n",
       "      <th>50%</th>\n",
       "      <td>767.500000</td>\n",
       "      <td>25.000000</td>\n",
       "    </tr>\n",
       "    <tr>\n",
       "      <th>75%</th>\n",
       "      <td>1150.750000</td>\n",
       "      <td>28.000000</td>\n",
       "    </tr>\n",
       "    <tr>\n",
       "      <th>max</th>\n",
       "      <td>1534.000000</td>\n",
       "      <td>43.000000</td>\n",
       "    </tr>\n",
       "  </tbody>\n",
       "</table>\n",
       "</div>"
      ],
      "text/plain": [
       "           user_id          age\n",
       "count  1534.000000  1534.000000\n",
       "mean    767.500000    24.903520\n",
       "std     442.971971     4.572367\n",
       "min       1.000000    12.000000\n",
       "25%     384.250000    22.000000\n",
       "50%     767.500000    25.000000\n",
       "75%    1150.750000    28.000000\n",
       "max    1534.000000    43.000000"
      ]
     },
     "metadata": {},
     "output_type": "display_data"
    },
    {
     "name": "stdout",
     "output_type": "stream",
     "text": [
      "\n"
     ]
    },
    {
     "data": {
      "text/html": [
       "<div>\n",
       "<style scoped>\n",
       "    .dataframe tbody tr th:only-of-type {\n",
       "        vertical-align: middle;\n",
       "    }\n",
       "\n",
       "    .dataframe tbody tr th {\n",
       "        vertical-align: top;\n",
       "    }\n",
       "\n",
       "    .dataframe thead th {\n",
       "        text-align: right;\n",
       "    }\n",
       "</style>\n",
       "<table border=\"1\" class=\"dataframe\">\n",
       "  <thead>\n",
       "    <tr style=\"text-align: right;\">\n",
       "      <th></th>\n",
       "      <th>user_id</th>\n",
       "      <th>distance</th>\n",
       "      <th>duration</th>\n",
       "      <th>month</th>\n",
       "    </tr>\n",
       "  </thead>\n",
       "  <tbody>\n",
       "    <tr>\n",
       "      <th>count</th>\n",
       "      <td>18068.000000</td>\n",
       "      <td>18068.000000</td>\n",
       "      <td>18068.000000</td>\n",
       "      <td>18068.000000</td>\n",
       "    </tr>\n",
       "    <tr>\n",
       "      <th>mean</th>\n",
       "      <td>842.869936</td>\n",
       "      <td>3070.659976</td>\n",
       "      <td>17.805011</td>\n",
       "      <td>6.486772</td>\n",
       "    </tr>\n",
       "    <tr>\n",
       "      <th>std</th>\n",
       "      <td>434.734317</td>\n",
       "      <td>1116.831209</td>\n",
       "      <td>6.091051</td>\n",
       "      <td>3.437410</td>\n",
       "    </tr>\n",
       "    <tr>\n",
       "      <th>min</th>\n",
       "      <td>1.000000</td>\n",
       "      <td>0.855683</td>\n",
       "      <td>0.500000</td>\n",
       "      <td>1.000000</td>\n",
       "    </tr>\n",
       "    <tr>\n",
       "      <th>25%</th>\n",
       "      <td>487.000000</td>\n",
       "      <td>2543.226360</td>\n",
       "      <td>13.597563</td>\n",
       "      <td>4.000000</td>\n",
       "    </tr>\n",
       "    <tr>\n",
       "      <th>50%</th>\n",
       "      <td>889.000000</td>\n",
       "      <td>3133.609994</td>\n",
       "      <td>17.678395</td>\n",
       "      <td>6.000000</td>\n",
       "    </tr>\n",
       "    <tr>\n",
       "      <th>75%</th>\n",
       "      <td>1213.250000</td>\n",
       "      <td>3776.222735</td>\n",
       "      <td>21.724800</td>\n",
       "      <td>9.000000</td>\n",
       "    </tr>\n",
       "    <tr>\n",
       "      <th>max</th>\n",
       "      <td>1534.000000</td>\n",
       "      <td>7211.007745</td>\n",
       "      <td>40.823963</td>\n",
       "      <td>12.000000</td>\n",
       "    </tr>\n",
       "  </tbody>\n",
       "</table>\n",
       "</div>"
      ],
      "text/plain": [
       "            user_id      distance      duration         month\n",
       "count  18068.000000  18068.000000  18068.000000  18068.000000\n",
       "mean     842.869936   3070.659976     17.805011      6.486772\n",
       "std      434.734317   1116.831209      6.091051      3.437410\n",
       "min        1.000000      0.855683      0.500000      1.000000\n",
       "25%      487.000000   2543.226360     13.597563      4.000000\n",
       "50%      889.000000   3133.609994     17.678395      6.000000\n",
       "75%     1213.250000   3776.222735     21.724800      9.000000\n",
       "max     1534.000000   7211.007745     40.823963     12.000000"
      ]
     },
     "metadata": {},
     "output_type": "display_data"
    },
    {
     "name": "stdout",
     "output_type": "stream",
     "text": [
      "\n"
     ]
    },
    {
     "data": {
      "text/html": [
       "<div>\n",
       "<style scoped>\n",
       "    .dataframe tbody tr th:only-of-type {\n",
       "        vertical-align: middle;\n",
       "    }\n",
       "\n",
       "    .dataframe tbody tr th {\n",
       "        vertical-align: top;\n",
       "    }\n",
       "\n",
       "    .dataframe thead th {\n",
       "        text-align: right;\n",
       "    }\n",
       "</style>\n",
       "<table border=\"1\" class=\"dataframe\">\n",
       "  <thead>\n",
       "    <tr style=\"text-align: right;\">\n",
       "      <th></th>\n",
       "      <th>minute_price</th>\n",
       "      <th>start_ride_price</th>\n",
       "      <th>subscription_fee</th>\n",
       "    </tr>\n",
       "  </thead>\n",
       "  <tbody>\n",
       "    <tr>\n",
       "      <th>count</th>\n",
       "      <td>2.000000</td>\n",
       "      <td>2.000000</td>\n",
       "      <td>2.000000</td>\n",
       "    </tr>\n",
       "    <tr>\n",
       "      <th>mean</th>\n",
       "      <td>7.000000</td>\n",
       "      <td>25.000000</td>\n",
       "      <td>99.500000</td>\n",
       "    </tr>\n",
       "    <tr>\n",
       "      <th>std</th>\n",
       "      <td>1.414214</td>\n",
       "      <td>35.355339</td>\n",
       "      <td>140.714249</td>\n",
       "    </tr>\n",
       "    <tr>\n",
       "      <th>min</th>\n",
       "      <td>6.000000</td>\n",
       "      <td>0.000000</td>\n",
       "      <td>0.000000</td>\n",
       "    </tr>\n",
       "    <tr>\n",
       "      <th>25%</th>\n",
       "      <td>6.500000</td>\n",
       "      <td>12.500000</td>\n",
       "      <td>49.750000</td>\n",
       "    </tr>\n",
       "    <tr>\n",
       "      <th>50%</th>\n",
       "      <td>7.000000</td>\n",
       "      <td>25.000000</td>\n",
       "      <td>99.500000</td>\n",
       "    </tr>\n",
       "    <tr>\n",
       "      <th>75%</th>\n",
       "      <td>7.500000</td>\n",
       "      <td>37.500000</td>\n",
       "      <td>149.250000</td>\n",
       "    </tr>\n",
       "    <tr>\n",
       "      <th>max</th>\n",
       "      <td>8.000000</td>\n",
       "      <td>50.000000</td>\n",
       "      <td>199.000000</td>\n",
       "    </tr>\n",
       "  </tbody>\n",
       "</table>\n",
       "</div>"
      ],
      "text/plain": [
       "       minute_price  start_ride_price  subscription_fee\n",
       "count      2.000000          2.000000          2.000000\n",
       "mean       7.000000         25.000000         99.500000\n",
       "std        1.414214         35.355339        140.714249\n",
       "min        6.000000          0.000000          0.000000\n",
       "25%        6.500000         12.500000         49.750000\n",
       "50%        7.000000         25.000000         99.500000\n",
       "75%        7.500000         37.500000        149.250000\n",
       "max        8.000000         50.000000        199.000000"
      ]
     },
     "metadata": {},
     "output_type": "display_data"
    }
   ],
   "source": [
    "display(data_user.describe())\n",
    "print()\n",
    "display(data_rides.describe())\n",
    "print()\n",
    "display(data_subscription.describe())\n"
   ]
  },
  {
   "cell_type": "code",
   "execution_count": 23,
   "id": "6bf288b5",
   "metadata": {},
   "outputs": [
    {
     "data": {
      "text/html": [
       "<div>\n",
       "<style scoped>\n",
       "    .dataframe tbody tr th:only-of-type {\n",
       "        vertical-align: middle;\n",
       "    }\n",
       "\n",
       "    .dataframe tbody tr th {\n",
       "        vertical-align: top;\n",
       "    }\n",
       "\n",
       "    .dataframe thead th {\n",
       "        text-align: right;\n",
       "    }\n",
       "</style>\n",
       "<table border=\"1\" class=\"dataframe\">\n",
       "  <thead>\n",
       "    <tr style=\"text-align: right;\">\n",
       "      <th></th>\n",
       "      <th>user_id</th>\n",
       "      <th>name</th>\n",
       "      <th>age</th>\n",
       "      <th>city</th>\n",
       "      <th>subscription_type</th>\n",
       "      <th>distance</th>\n",
       "      <th>duration</th>\n",
       "      <th>date</th>\n",
       "      <th>month</th>\n",
       "      <th>minute_price</th>\n",
       "      <th>start_ride_price</th>\n",
       "      <th>subscription_fee</th>\n",
       "    </tr>\n",
       "  </thead>\n",
       "  <tbody>\n",
       "    <tr>\n",
       "      <th>0</th>\n",
       "      <td>1</td>\n",
       "      <td>Кира</td>\n",
       "      <td>22</td>\n",
       "      <td>Тюмень</td>\n",
       "      <td>ultra</td>\n",
       "      <td>4409.919140</td>\n",
       "      <td>25.599769</td>\n",
       "      <td>2021-01-01</td>\n",
       "      <td>1</td>\n",
       "      <td>6</td>\n",
       "      <td>0</td>\n",
       "      <td>199</td>\n",
       "    </tr>\n",
       "    <tr>\n",
       "      <th>1</th>\n",
       "      <td>1</td>\n",
       "      <td>Кира</td>\n",
       "      <td>22</td>\n",
       "      <td>Тюмень</td>\n",
       "      <td>ultra</td>\n",
       "      <td>2617.592153</td>\n",
       "      <td>15.816871</td>\n",
       "      <td>2021-01-18</td>\n",
       "      <td>1</td>\n",
       "      <td>6</td>\n",
       "      <td>0</td>\n",
       "      <td>199</td>\n",
       "    </tr>\n",
       "    <tr>\n",
       "      <th>2</th>\n",
       "      <td>1</td>\n",
       "      <td>Кира</td>\n",
       "      <td>22</td>\n",
       "      <td>Тюмень</td>\n",
       "      <td>ultra</td>\n",
       "      <td>754.159807</td>\n",
       "      <td>6.232113</td>\n",
       "      <td>2021-04-20</td>\n",
       "      <td>4</td>\n",
       "      <td>6</td>\n",
       "      <td>0</td>\n",
       "      <td>199</td>\n",
       "    </tr>\n",
       "    <tr>\n",
       "      <th>3</th>\n",
       "      <td>1</td>\n",
       "      <td>Кира</td>\n",
       "      <td>22</td>\n",
       "      <td>Тюмень</td>\n",
       "      <td>ultra</td>\n",
       "      <td>2694.783254</td>\n",
       "      <td>18.511000</td>\n",
       "      <td>2021-08-11</td>\n",
       "      <td>8</td>\n",
       "      <td>6</td>\n",
       "      <td>0</td>\n",
       "      <td>199</td>\n",
       "    </tr>\n",
       "    <tr>\n",
       "      <th>4</th>\n",
       "      <td>1</td>\n",
       "      <td>Кира</td>\n",
       "      <td>22</td>\n",
       "      <td>Тюмень</td>\n",
       "      <td>ultra</td>\n",
       "      <td>4028.687306</td>\n",
       "      <td>26.265803</td>\n",
       "      <td>2021-08-28</td>\n",
       "      <td>8</td>\n",
       "      <td>6</td>\n",
       "      <td>0</td>\n",
       "      <td>199</td>\n",
       "    </tr>\n",
       "  </tbody>\n",
       "</table>\n",
       "</div>"
      ],
      "text/plain": [
       "   user_id  name  age    city subscription_type     distance   duration  \\\n",
       "0        1  Кира   22  Тюмень             ultra  4409.919140  25.599769   \n",
       "1        1  Кира   22  Тюмень             ultra  2617.592153  15.816871   \n",
       "2        1  Кира   22  Тюмень             ultra   754.159807   6.232113   \n",
       "3        1  Кира   22  Тюмень             ultra  2694.783254  18.511000   \n",
       "4        1  Кира   22  Тюмень             ultra  4028.687306  26.265803   \n",
       "\n",
       "        date  month  minute_price  start_ride_price  subscription_fee  \n",
       "0 2021-01-01      1             6                 0               199  \n",
       "1 2021-01-18      1             6                 0               199  \n",
       "2 2021-04-20      4             6                 0               199  \n",
       "3 2021-08-11      8             6                 0               199  \n",
       "4 2021-08-28      8             6                 0               199  "
      ]
     },
     "metadata": {},
     "output_type": "display_data"
    }
   ],
   "source": [
    "summary_data = data_user.merge(data_rides, on='user_id', how='left')\n",
    "summary_data = summary_data.merge(data_subscription, on='subscription_type', how='left')\n",
    "display(summary_data.head(5))"
   ]
  },
  {
   "cell_type": "code",
   "execution_count": 24,
   "id": "e5170bc8",
   "metadata": {},
   "outputs": [
    {
     "name": "stdout",
     "output_type": "stream",
     "text": [
      "ДУБЛИ в данных о Пользователях: 0\n"
     ]
    }
   ],
   "source": [
    "print('ДУБЛИ в данных о Пользователях:', summary_data.duplicated().sum())"
   ]
  },
  {
   "cell_type": "code",
   "execution_count": 25,
   "id": "6a6177f7",
   "metadata": {},
   "outputs": [],
   "source": [
    "summary_data = summary_data.drop_duplicates().reset_index(drop=True)"
   ]
  },
  {
   "cell_type": "code",
   "execution_count": 26,
   "id": "591a2ad2",
   "metadata": {},
   "outputs": [
    {
     "name": "stdout",
     "output_type": "stream",
     "text": [
      "Общие данные:\n"
     ]
    },
    {
     "data": {
      "text/html": [
       "<div>\n",
       "<style scoped>\n",
       "    .dataframe tbody tr th:only-of-type {\n",
       "        vertical-align: middle;\n",
       "    }\n",
       "\n",
       "    .dataframe tbody tr th {\n",
       "        vertical-align: top;\n",
       "    }\n",
       "\n",
       "    .dataframe thead th {\n",
       "        text-align: right;\n",
       "    }\n",
       "</style>\n",
       "<table border=\"1\" class=\"dataframe\">\n",
       "  <thead>\n",
       "    <tr style=\"text-align: right;\">\n",
       "      <th></th>\n",
       "      <th>user_id</th>\n",
       "      <th>age</th>\n",
       "      <th>distance</th>\n",
       "      <th>duration</th>\n",
       "      <th>month</th>\n",
       "      <th>minute_price</th>\n",
       "      <th>start_ride_price</th>\n",
       "      <th>subscription_fee</th>\n",
       "    </tr>\n",
       "  </thead>\n",
       "  <tbody>\n",
       "    <tr>\n",
       "      <th>count</th>\n",
       "      <td>18068.000000</td>\n",
       "      <td>18068.000000</td>\n",
       "      <td>18068.000000</td>\n",
       "      <td>18068.000000</td>\n",
       "      <td>18068.000000</td>\n",
       "      <td>18068.000000</td>\n",
       "      <td>18068.000000</td>\n",
       "      <td>18068.000000</td>\n",
       "    </tr>\n",
       "    <tr>\n",
       "      <th>mean</th>\n",
       "      <td>842.869936</td>\n",
       "      <td>24.893071</td>\n",
       "      <td>3070.659976</td>\n",
       "      <td>17.805011</td>\n",
       "      <td>6.486772</td>\n",
       "      <td>7.280496</td>\n",
       "      <td>32.012398</td>\n",
       "      <td>71.590658</td>\n",
       "    </tr>\n",
       "    <tr>\n",
       "      <th>std</th>\n",
       "      <td>434.734317</td>\n",
       "      <td>4.582216</td>\n",
       "      <td>1116.831209</td>\n",
       "      <td>6.091051</td>\n",
       "      <td>3.437410</td>\n",
       "      <td>0.959882</td>\n",
       "      <td>23.997045</td>\n",
       "      <td>95.508238</td>\n",
       "    </tr>\n",
       "    <tr>\n",
       "      <th>min</th>\n",
       "      <td>1.000000</td>\n",
       "      <td>12.000000</td>\n",
       "      <td>0.855683</td>\n",
       "      <td>0.500000</td>\n",
       "      <td>1.000000</td>\n",
       "      <td>6.000000</td>\n",
       "      <td>0.000000</td>\n",
       "      <td>0.000000</td>\n",
       "    </tr>\n",
       "    <tr>\n",
       "      <th>25%</th>\n",
       "      <td>487.000000</td>\n",
       "      <td>22.000000</td>\n",
       "      <td>2543.226360</td>\n",
       "      <td>13.597563</td>\n",
       "      <td>4.000000</td>\n",
       "      <td>6.000000</td>\n",
       "      <td>0.000000</td>\n",
       "      <td>0.000000</td>\n",
       "    </tr>\n",
       "    <tr>\n",
       "      <th>50%</th>\n",
       "      <td>889.000000</td>\n",
       "      <td>25.000000</td>\n",
       "      <td>3133.609994</td>\n",
       "      <td>17.678395</td>\n",
       "      <td>6.000000</td>\n",
       "      <td>8.000000</td>\n",
       "      <td>50.000000</td>\n",
       "      <td>0.000000</td>\n",
       "    </tr>\n",
       "    <tr>\n",
       "      <th>75%</th>\n",
       "      <td>1213.250000</td>\n",
       "      <td>28.000000</td>\n",
       "      <td>3776.222735</td>\n",
       "      <td>21.724800</td>\n",
       "      <td>9.000000</td>\n",
       "      <td>8.000000</td>\n",
       "      <td>50.000000</td>\n",
       "      <td>199.000000</td>\n",
       "    </tr>\n",
       "    <tr>\n",
       "      <th>max</th>\n",
       "      <td>1534.000000</td>\n",
       "      <td>43.000000</td>\n",
       "      <td>7211.007745</td>\n",
       "      <td>40.823963</td>\n",
       "      <td>12.000000</td>\n",
       "      <td>8.000000</td>\n",
       "      <td>50.000000</td>\n",
       "      <td>199.000000</td>\n",
       "    </tr>\n",
       "  </tbody>\n",
       "</table>\n",
       "</div>"
      ],
      "text/plain": [
       "            user_id           age      distance      duration         month  \\\n",
       "count  18068.000000  18068.000000  18068.000000  18068.000000  18068.000000   \n",
       "mean     842.869936     24.893071   3070.659976     17.805011      6.486772   \n",
       "std      434.734317      4.582216   1116.831209      6.091051      3.437410   \n",
       "min        1.000000     12.000000      0.855683      0.500000      1.000000   \n",
       "25%      487.000000     22.000000   2543.226360     13.597563      4.000000   \n",
       "50%      889.000000     25.000000   3133.609994     17.678395      6.000000   \n",
       "75%     1213.250000     28.000000   3776.222735     21.724800      9.000000   \n",
       "max     1534.000000     43.000000   7211.007745     40.823963     12.000000   \n",
       "\n",
       "       minute_price  start_ride_price  subscription_fee  \n",
       "count  18068.000000      18068.000000      18068.000000  \n",
       "mean       7.280496         32.012398         71.590658  \n",
       "std        0.959882         23.997045         95.508238  \n",
       "min        6.000000          0.000000          0.000000  \n",
       "25%        6.000000          0.000000          0.000000  \n",
       "50%        8.000000         50.000000          0.000000  \n",
       "75%        8.000000         50.000000        199.000000  \n",
       "max        8.000000         50.000000        199.000000  "
      ]
     },
     "execution_count": 26,
     "metadata": {},
     "output_type": "execute_result"
    }
   ],
   "source": [
    "print('Общие данные:')\n",
    "summary_data.describe()"
   ]
  },
  {
   "cell_type": "markdown",
   "id": "6c5ad992",
   "metadata": {},
   "source": [
    "**Вывод**\n",
    "\n",
    "1. Произвели объединение таблиц в одну\n",
    "2. По результатам объединения появились дубликаты\n",
    "3. Произвели удаление дубликатов"
   ]
  },
  {
   "cell_type": "markdown",
   "id": "df84e139",
   "metadata": {},
   "source": [
    "### Создадим два датафрейма"
   ]
  },
  {
   "cell_type": "markdown",
   "id": "a82e831d",
   "metadata": {},
   "source": [
    "#### Пользователи без подписки"
   ]
  },
  {
   "cell_type": "code",
   "execution_count": 27,
   "id": "39b948f5",
   "metadata": {},
   "outputs": [
    {
     "data": {
      "text/html": [
       "<div>\n",
       "<style scoped>\n",
       "    .dataframe tbody tr th:only-of-type {\n",
       "        vertical-align: middle;\n",
       "    }\n",
       "\n",
       "    .dataframe tbody tr th {\n",
       "        vertical-align: top;\n",
       "    }\n",
       "\n",
       "    .dataframe thead th {\n",
       "        text-align: right;\n",
       "    }\n",
       "</style>\n",
       "<table border=\"1\" class=\"dataframe\">\n",
       "  <thead>\n",
       "    <tr style=\"text-align: right;\">\n",
       "      <th></th>\n",
       "      <th>user_id</th>\n",
       "      <th>age</th>\n",
       "      <th>distance</th>\n",
       "      <th>duration</th>\n",
       "      <th>month</th>\n",
       "      <th>minute_price</th>\n",
       "      <th>start_ride_price</th>\n",
       "      <th>subscription_fee</th>\n",
       "    </tr>\n",
       "  </thead>\n",
       "  <tbody>\n",
       "    <tr>\n",
       "      <th>count</th>\n",
       "      <td>11568.000000</td>\n",
       "      <td>11568.000000</td>\n",
       "      <td>11568.000000</td>\n",
       "      <td>11568.000000</td>\n",
       "      <td>11568.000000</td>\n",
       "      <td>11568.0</td>\n",
       "      <td>11568.0</td>\n",
       "      <td>11568.0</td>\n",
       "    </tr>\n",
       "    <tr>\n",
       "      <th>mean</th>\n",
       "      <td>1120.527230</td>\n",
       "      <td>24.893326</td>\n",
       "      <td>3045.495282</td>\n",
       "      <td>17.390909</td>\n",
       "      <td>6.522994</td>\n",
       "      <td>8.0</td>\n",
       "      <td>50.0</td>\n",
       "      <td>0.0</td>\n",
       "    </tr>\n",
       "    <tr>\n",
       "      <th>std</th>\n",
       "      <td>241.165628</td>\n",
       "      <td>4.481100</td>\n",
       "      <td>1246.173806</td>\n",
       "      <td>6.326803</td>\n",
       "      <td>3.449770</td>\n",
       "      <td>0.0</td>\n",
       "      <td>0.0</td>\n",
       "      <td>0.0</td>\n",
       "    </tr>\n",
       "    <tr>\n",
       "      <th>min</th>\n",
       "      <td>700.000000</td>\n",
       "      <td>12.000000</td>\n",
       "      <td>0.855683</td>\n",
       "      <td>0.500000</td>\n",
       "      <td>1.000000</td>\n",
       "      <td>8.0</td>\n",
       "      <td>50.0</td>\n",
       "      <td>0.0</td>\n",
       "    </tr>\n",
       "    <tr>\n",
       "      <th>25%</th>\n",
       "      <td>915.000000</td>\n",
       "      <td>22.000000</td>\n",
       "      <td>2366.562689</td>\n",
       "      <td>12.958437</td>\n",
       "      <td>4.000000</td>\n",
       "      <td>8.0</td>\n",
       "      <td>50.0</td>\n",
       "      <td>0.0</td>\n",
       "    </tr>\n",
       "    <tr>\n",
       "      <th>50%</th>\n",
       "      <td>1123.000000</td>\n",
       "      <td>25.000000</td>\n",
       "      <td>3114.648465</td>\n",
       "      <td>17.326890</td>\n",
       "      <td>7.000000</td>\n",
       "      <td>8.0</td>\n",
       "      <td>50.0</td>\n",
       "      <td>0.0</td>\n",
       "    </tr>\n",
       "    <tr>\n",
       "      <th>75%</th>\n",
       "      <td>1328.000000</td>\n",
       "      <td>28.000000</td>\n",
       "      <td>3905.697894</td>\n",
       "      <td>21.594071</td>\n",
       "      <td>9.000000</td>\n",
       "      <td>8.0</td>\n",
       "      <td>50.0</td>\n",
       "      <td>0.0</td>\n",
       "    </tr>\n",
       "    <tr>\n",
       "      <th>max</th>\n",
       "      <td>1534.000000</td>\n",
       "      <td>43.000000</td>\n",
       "      <td>7211.007745</td>\n",
       "      <td>34.948498</td>\n",
       "      <td>12.000000</td>\n",
       "      <td>8.0</td>\n",
       "      <td>50.0</td>\n",
       "      <td>0.0</td>\n",
       "    </tr>\n",
       "  </tbody>\n",
       "</table>\n",
       "</div>"
      ],
      "text/plain": [
       "            user_id           age      distance      duration         month  \\\n",
       "count  11568.000000  11568.000000  11568.000000  11568.000000  11568.000000   \n",
       "mean    1120.527230     24.893326   3045.495282     17.390909      6.522994   \n",
       "std      241.165628      4.481100   1246.173806      6.326803      3.449770   \n",
       "min      700.000000     12.000000      0.855683      0.500000      1.000000   \n",
       "25%      915.000000     22.000000   2366.562689     12.958437      4.000000   \n",
       "50%     1123.000000     25.000000   3114.648465     17.326890      7.000000   \n",
       "75%     1328.000000     28.000000   3905.697894     21.594071      9.000000   \n",
       "max     1534.000000     43.000000   7211.007745     34.948498     12.000000   \n",
       "\n",
       "       minute_price  start_ride_price  subscription_fee  \n",
       "count       11568.0           11568.0           11568.0  \n",
       "mean            8.0              50.0               0.0  \n",
       "std             0.0               0.0               0.0  \n",
       "min             8.0              50.0               0.0  \n",
       "25%             8.0              50.0               0.0  \n",
       "50%             8.0              50.0               0.0  \n",
       "75%             8.0              50.0               0.0  \n",
       "max             8.0              50.0               0.0  "
      ]
     },
     "execution_count": 27,
     "metadata": {},
     "output_type": "execute_result"
    }
   ],
   "source": [
    "user_not_subscription = summary_data.loc[summary_data['subscription_type'] == 'free']\n",
    "user_not_subscription.describe()"
   ]
  },
  {
   "cell_type": "markdown",
   "id": "9f88d9ee",
   "metadata": {},
   "source": [
    "#### Пользователи с подпиской"
   ]
  },
  {
   "cell_type": "code",
   "execution_count": 28,
   "id": "4914897f",
   "metadata": {},
   "outputs": [
    {
     "data": {
      "text/html": [
       "<div>\n",
       "<style scoped>\n",
       "    .dataframe tbody tr th:only-of-type {\n",
       "        vertical-align: middle;\n",
       "    }\n",
       "\n",
       "    .dataframe tbody tr th {\n",
       "        vertical-align: top;\n",
       "    }\n",
       "\n",
       "    .dataframe thead th {\n",
       "        text-align: right;\n",
       "    }\n",
       "</style>\n",
       "<table border=\"1\" class=\"dataframe\">\n",
       "  <thead>\n",
       "    <tr style=\"text-align: right;\">\n",
       "      <th></th>\n",
       "      <th>user_id</th>\n",
       "      <th>age</th>\n",
       "      <th>distance</th>\n",
       "      <th>duration</th>\n",
       "      <th>month</th>\n",
       "      <th>minute_price</th>\n",
       "      <th>start_ride_price</th>\n",
       "      <th>subscription_fee</th>\n",
       "    </tr>\n",
       "  </thead>\n",
       "  <tbody>\n",
       "    <tr>\n",
       "      <th>count</th>\n",
       "      <td>6500.000000</td>\n",
       "      <td>6500.000000</td>\n",
       "      <td>6500.000000</td>\n",
       "      <td>6500.000000</td>\n",
       "      <td>6500.000000</td>\n",
       "      <td>6500.0</td>\n",
       "      <td>6500.0</td>\n",
       "      <td>6500.0</td>\n",
       "    </tr>\n",
       "    <tr>\n",
       "      <th>mean</th>\n",
       "      <td>348.725385</td>\n",
       "      <td>24.892615</td>\n",
       "      <td>3115.445388</td>\n",
       "      <td>18.541985</td>\n",
       "      <td>6.422308</td>\n",
       "      <td>6.0</td>\n",
       "      <td>0.0</td>\n",
       "      <td>199.0</td>\n",
       "    </tr>\n",
       "    <tr>\n",
       "      <th>std</th>\n",
       "      <td>201.099339</td>\n",
       "      <td>4.757208</td>\n",
       "      <td>836.895330</td>\n",
       "      <td>5.572048</td>\n",
       "      <td>3.414616</td>\n",
       "      <td>0.0</td>\n",
       "      <td>0.0</td>\n",
       "      <td>0.0</td>\n",
       "    </tr>\n",
       "    <tr>\n",
       "      <th>min</th>\n",
       "      <td>1.000000</td>\n",
       "      <td>12.000000</td>\n",
       "      <td>244.210438</td>\n",
       "      <td>3.760353</td>\n",
       "      <td>1.000000</td>\n",
       "      <td>6.0</td>\n",
       "      <td>0.0</td>\n",
       "      <td>199.0</td>\n",
       "    </tr>\n",
       "    <tr>\n",
       "      <th>25%</th>\n",
       "      <td>175.000000</td>\n",
       "      <td>22.000000</td>\n",
       "      <td>2785.444017</td>\n",
       "      <td>14.524654</td>\n",
       "      <td>4.000000</td>\n",
       "      <td>6.0</td>\n",
       "      <td>0.0</td>\n",
       "      <td>199.0</td>\n",
       "    </tr>\n",
       "    <tr>\n",
       "      <th>50%</th>\n",
       "      <td>351.000000</td>\n",
       "      <td>25.000000</td>\n",
       "      <td>3148.637229</td>\n",
       "      <td>18.178153</td>\n",
       "      <td>6.000000</td>\n",
       "      <td>6.0</td>\n",
       "      <td>0.0</td>\n",
       "      <td>199.0</td>\n",
       "    </tr>\n",
       "    <tr>\n",
       "      <th>75%</th>\n",
       "      <td>525.000000</td>\n",
       "      <td>28.000000</td>\n",
       "      <td>3560.574425</td>\n",
       "      <td>21.884129</td>\n",
       "      <td>9.000000</td>\n",
       "      <td>6.0</td>\n",
       "      <td>0.0</td>\n",
       "      <td>199.0</td>\n",
       "    </tr>\n",
       "    <tr>\n",
       "      <th>max</th>\n",
       "      <td>699.000000</td>\n",
       "      <td>38.000000</td>\n",
       "      <td>5699.769662</td>\n",
       "      <td>40.823963</td>\n",
       "      <td>12.000000</td>\n",
       "      <td>6.0</td>\n",
       "      <td>0.0</td>\n",
       "      <td>199.0</td>\n",
       "    </tr>\n",
       "  </tbody>\n",
       "</table>\n",
       "</div>"
      ],
      "text/plain": [
       "           user_id          age     distance     duration        month  \\\n",
       "count  6500.000000  6500.000000  6500.000000  6500.000000  6500.000000   \n",
       "mean    348.725385    24.892615  3115.445388    18.541985     6.422308   \n",
       "std     201.099339     4.757208   836.895330     5.572048     3.414616   \n",
       "min       1.000000    12.000000   244.210438     3.760353     1.000000   \n",
       "25%     175.000000    22.000000  2785.444017    14.524654     4.000000   \n",
       "50%     351.000000    25.000000  3148.637229    18.178153     6.000000   \n",
       "75%     525.000000    28.000000  3560.574425    21.884129     9.000000   \n",
       "max     699.000000    38.000000  5699.769662    40.823963    12.000000   \n",
       "\n",
       "       minute_price  start_ride_price  subscription_fee  \n",
       "count        6500.0            6500.0            6500.0  \n",
       "mean            6.0               0.0             199.0  \n",
       "std             0.0               0.0               0.0  \n",
       "min             6.0               0.0             199.0  \n",
       "25%             6.0               0.0             199.0  \n",
       "50%             6.0               0.0             199.0  \n",
       "75%             6.0               0.0             199.0  \n",
       "max             6.0               0.0             199.0  "
      ]
     },
     "execution_count": 28,
     "metadata": {},
     "output_type": "execute_result"
    }
   ],
   "source": [
    "user_is_a_subscription = summary_data.loc[summary_data['subscription_type'] == 'ultra']\n",
    "user_is_a_subscription.describe()"
   ]
  },
  {
   "cell_type": "markdown",
   "id": "5df5c47b",
   "metadata": {},
   "source": [
    "### Визуализируем информацию о расстоянии и времени поездок для пользователей обеих категорий"
   ]
  },
  {
   "cell_type": "markdown",
   "id": "ea242220",
   "metadata": {},
   "source": [
    "#### Расстояние и продолжительность которое пользователи преодолели за поездку (пользователи без подписки)"
   ]
  },
  {
   "cell_type": "code",
   "execution_count": 29,
   "id": "36beb14c",
   "metadata": {},
   "outputs": [
    {
     "data": {
      "image/png": "[encoded data removed]",
      "text/plain": [
       "<Figure size 720x360 with 1 Axes>"
      ]
     },
     "metadata": {
      "needs_background": "light"
     },
     "output_type": "display_data"
    },
    {
     "data": {
      "text/plain": [
       "count    11568.000000\n",
       "mean      3045.495282\n",
       "std       1246.173806\n",
       "min          0.855683\n",
       "25%       2366.562689\n",
       "50%       3114.648465\n",
       "75%       3905.697894\n",
       "max       7211.007745\n",
       "Name: distance, dtype: float64"
      ]
     },
     "execution_count": 29,
     "metadata": {},
     "output_type": "execute_result"
    }
   ],
   "source": [
    "user_not_subscription['distance'].hist(bins=100, figsize = (10,5))\n",
    "plt.title('Расстояние которое проехали пользователи без подписки');\n",
    "plt.xlabel('Расстояние, м.');\n",
    "plt.show()\n",
    "\n",
    "user_not_subscription['distance'].describe()"
   ]
  },
  {
   "cell_type": "markdown",
   "id": "3e16e053",
   "metadata": {},
   "source": [
    "**Вывод**\n",
    "\n",
    "- Пользователи без подписки в среднем проезжают 3 км\n",
    "- Максимальное значение которое проехали пользователи это 7.2 км\n",
    "- Минимальное 0.9 км"
   ]
  },
  {
   "cell_type": "code",
   "execution_count": 30,
   "id": "91bf9deb",
   "metadata": {},
   "outputs": [
    {
     "data": {
      "image/png": "[encoded data removed]",
      "text/plain": [
       "<Figure size 720x360 with 1 Axes>"
      ]
     },
     "metadata": {
      "needs_background": "light"
     },
     "output_type": "display_data"
    },
    {
     "data": {
      "text/plain": [
       "count    11568.000000\n",
       "mean        17.390909\n",
       "std          6.326803\n",
       "min          0.500000\n",
       "25%         12.958437\n",
       "50%         17.326890\n",
       "75%         21.594071\n",
       "max         34.948498\n",
       "Name: duration, dtype: float64"
      ]
     },
     "execution_count": 30,
     "metadata": {},
     "output_type": "execute_result"
    }
   ],
   "source": [
    "user_not_subscription['duration'].hist(bins=100, figsize = (10,5))\n",
    "plt.title('Продолжительность времени поездки пользователей без подписки');\n",
    "plt.xlabel('Время поездки');\n",
    "plt.show()\n",
    "\n",
    "user_not_subscription['duration'].describe()"
   ]
  },
  {
   "cell_type": "markdown",
   "id": "59903da2",
   "metadata": {},
   "source": [
    "**Вывод**\n",
    "\n",
    "- Пользователи без подписки в среднем проезжают арендуют на 17 минут\n",
    "- Максимальное значение аренды 35 минут\n",
    "- Минимальное 0.5 минуты"
   ]
  },
  {
   "cell_type": "markdown",
   "id": "12ddaba0",
   "metadata": {},
   "source": []
  },
  {
   "cell_type": "markdown",
   "id": "1c3ce5fd",
   "metadata": {},
   "source": [
    "#### Расстояние и продолжительность которое пользователи преодолели за поездку (пользователи с подпиской)"
   ]
  },
  {
   "cell_type": "code",
   "execution_count": 31,
   "id": "3d397649",
   "metadata": {},
   "outputs": [
    {
     "data": {
      "image/png": "[encoded data removed]",
      "text/plain": [
       "<Figure size 720x360 with 1 Axes>"
      ]
     },
     "metadata": {
      "needs_background": "light"
     },
     "output_type": "display_data"
    },
    {
     "data": {
      "text/plain": [
       "count    6500.000000\n",
       "mean     3115.445388\n",
       "std       836.895330\n",
       "min       244.210438\n",
       "25%      2785.444017\n",
       "50%      3148.637229\n",
       "75%      3560.574425\n",
       "max      5699.769662\n",
       "Name: distance, dtype: float64"
      ]
     },
     "execution_count": 31,
     "metadata": {},
     "output_type": "execute_result"
    }
   ],
   "source": [
    "user_is_a_subscription['distance'].hist(bins=100, figsize = (10,5))\n",
    "plt.title('Расстояние которое проехали пользователи с подпиской');\n",
    "plt.xlabel('Расстояние, м.');\n",
    "plt.show()\n",
    "\n",
    "user_is_a_subscription['distance'].describe()"
   ]
  },
  {
   "cell_type": "markdown",
   "id": "0dd7f95e",
   "metadata": {},
   "source": [
    "**Вывод**\n",
    "\n",
    "- Пользователи с подпиской в среднем проезжают 3 км\n",
    "- Максимальное значение которое проехали пользователи это 5.6 км\n",
    "- Минимальное 0.2 км"
   ]
  },
  {
   "cell_type": "code",
   "execution_count": 32,
   "id": "125774be",
   "metadata": {},
   "outputs": [
    {
     "data": {
      "image/png": "[encoded data removed]",
      "text/plain": [
       "<Figure size 720x360 with 1 Axes>"
      ]
     },
     "metadata": {
      "needs_background": "light"
     },
     "output_type": "display_data"
    },
    {
     "data": {
      "text/plain": [
       "count    6500.000000\n",
       "mean       18.541985\n",
       "std         5.572048\n",
       "min         3.760353\n",
       "25%        14.524654\n",
       "50%        18.178153\n",
       "75%        21.884129\n",
       "max        40.823963\n",
       "Name: duration, dtype: float64"
      ]
     },
     "execution_count": 32,
     "metadata": {},
     "output_type": "execute_result"
    }
   ],
   "source": [
    "user_is_a_subscription['duration'].hist(bins=100, figsize = (10,5))\n",
    "plt.title('Продолжительность времени поездки пользователей с подпиской');\n",
    "plt.xlabel('Время поездки');\n",
    "plt.show()\n",
    "\n",
    "user_is_a_subscription['duration'].describe()"
   ]
  },
  {
   "cell_type": "markdown",
   "id": "18008bea",
   "metadata": {},
   "source": [
    "**Вывод**\n",
    "\n",
    "- Пользователи с подпиской в среднем проезжают 18 минут\n",
    "- Максимальное значение которое проехали пользователи это 40.8 минут\n",
    "- Минимальное 3.7 минуты"
   ]
  },
  {
   "cell_type": "markdown",
   "id": "9c9997fb",
   "metadata": {},
   "source": [
    "**Вывод**\n",
    "1. Большая часть кол-ва пользователей без подписки проезжает растояние в промежутке [2.1 - 4]км, когда пользователи с подпиской 3.2 км\n",
    "2. Чаще всего пользователи без подписки арендуют в промежутке [12 - 22] минут, когда пользователи с подпиской арендуют в промежутке [14 - 21] минута"
   ]
  },
  {
   "cell_type": "markdown",
   "id": "17d0fca9",
   "metadata": {},
   "source": [
    "## Подсчёт выручки"
   ]
  },
  {
   "cell_type": "markdown",
   "id": "402d620f",
   "metadata": {},
   "source": [
    "### Создаем датафрейм с агрегированными данными о поездках на основе датафрейма с объединёнными данными из шага 4"
   ]
  },
  {
   "cell_type": "code",
   "execution_count": 33,
   "id": "53049e0a",
   "metadata": {},
   "outputs": [
    {
     "data": {
      "text/html": [
       "<div>\n",
       "<style scoped>\n",
       "    .dataframe tbody tr th:only-of-type {\n",
       "        vertical-align: middle;\n",
       "    }\n",
       "\n",
       "    .dataframe tbody tr th {\n",
       "        vertical-align: top;\n",
       "    }\n",
       "\n",
       "    .dataframe thead th {\n",
       "        text-align: right;\n",
       "    }\n",
       "</style>\n",
       "<table border=\"1\" class=\"dataframe\">\n",
       "  <thead>\n",
       "    <tr style=\"text-align: right;\">\n",
       "      <th></th>\n",
       "      <th></th>\n",
       "      <th>total_distance</th>\n",
       "      <th>total_duration</th>\n",
       "      <th>trip_count</th>\n",
       "      <th>subscription_type</th>\n",
       "    </tr>\n",
       "    <tr>\n",
       "      <th>user_id</th>\n",
       "      <th>month</th>\n",
       "      <th></th>\n",
       "      <th></th>\n",
       "      <th></th>\n",
       "      <th></th>\n",
       "    </tr>\n",
       "  </thead>\n",
       "  <tbody>\n",
       "    <tr>\n",
       "      <th rowspan=\"5\" valign=\"top\">1</th>\n",
       "      <th>1</th>\n",
       "      <td>7027.511294</td>\n",
       "      <td>41.0</td>\n",
       "      <td>2</td>\n",
       "      <td>ultra</td>\n",
       "    </tr>\n",
       "    <tr>\n",
       "      <th>4</th>\n",
       "      <td>754.159807</td>\n",
       "      <td>6.0</td>\n",
       "      <td>1</td>\n",
       "      <td>ultra</td>\n",
       "    </tr>\n",
       "    <tr>\n",
       "      <th>8</th>\n",
       "      <td>6723.470560</td>\n",
       "      <td>45.0</td>\n",
       "      <td>2</td>\n",
       "      <td>ultra</td>\n",
       "    </tr>\n",
       "    <tr>\n",
       "      <th>10</th>\n",
       "      <td>5809.911100</td>\n",
       "      <td>32.0</td>\n",
       "      <td>2</td>\n",
       "      <td>ultra</td>\n",
       "    </tr>\n",
       "    <tr>\n",
       "      <th>11</th>\n",
       "      <td>7003.499363</td>\n",
       "      <td>53.0</td>\n",
       "      <td>3</td>\n",
       "      <td>ultra</td>\n",
       "    </tr>\n",
       "    <tr>\n",
       "      <th>...</th>\n",
       "      <th>...</th>\n",
       "      <td>...</td>\n",
       "      <td>...</td>\n",
       "      <td>...</td>\n",
       "      <td>...</td>\n",
       "    </tr>\n",
       "    <tr>\n",
       "      <th rowspan=\"5\" valign=\"top\">1534</th>\n",
       "      <th>6</th>\n",
       "      <td>3409.468534</td>\n",
       "      <td>25.0</td>\n",
       "      <td>2</td>\n",
       "      <td>free</td>\n",
       "    </tr>\n",
       "    <tr>\n",
       "      <th>8</th>\n",
       "      <td>7622.453034</td>\n",
       "      <td>47.0</td>\n",
       "      <td>2</td>\n",
       "      <td>free</td>\n",
       "    </tr>\n",
       "    <tr>\n",
       "      <th>9</th>\n",
       "      <td>4928.173852</td>\n",
       "      <td>23.0</td>\n",
       "      <td>1</td>\n",
       "      <td>free</td>\n",
       "    </tr>\n",
       "    <tr>\n",
       "      <th>11</th>\n",
       "      <td>13350.015305</td>\n",
       "      <td>76.0</td>\n",
       "      <td>4</td>\n",
       "      <td>free</td>\n",
       "    </tr>\n",
       "    <tr>\n",
       "      <th>12</th>\n",
       "      <td>2371.711192</td>\n",
       "      <td>16.0</td>\n",
       "      <td>1</td>\n",
       "      <td>free</td>\n",
       "    </tr>\n",
       "  </tbody>\n",
       "</table>\n",
       "<p>11331 rows × 4 columns</p>\n",
       "</div>"
      ],
      "text/plain": [
       "               total_distance  total_duration  trip_count subscription_type\n",
       "user_id month                                                              \n",
       "1       1         7027.511294            41.0           2             ultra\n",
       "        4          754.159807             6.0           1             ultra\n",
       "        8         6723.470560            45.0           2             ultra\n",
       "        10        5809.911100            32.0           2             ultra\n",
       "        11        7003.499363            53.0           3             ultra\n",
       "...                       ...             ...         ...               ...\n",
       "1534    6         3409.468534            25.0           2              free\n",
       "        8         7622.453034            47.0           2              free\n",
       "        9         4928.173852            23.0           1              free\n",
       "        11       13350.015305            76.0           4              free\n",
       "        12        2371.711192            16.0           1              free\n",
       "\n",
       "[11331 rows x 4 columns]"
      ]
     },
     "metadata": {},
     "output_type": "display_data"
    }
   ],
   "source": [
    "data_pivot = summary_data.pivot_table(index=['user_id', 'month'], \n",
    "                  values=['distance', 'duration', 'name', 'subscription_type'], \n",
    "                  aggfunc={'distance':'sum', 'duration':'sum', 'name':'count', 'subscription_type': 'min'})\n",
    "data_pivot.columns = ['total_distance', 'total_duration', 'trip_count', 'subscription_type']\n",
    "data_pivot['total_duration'] = round(data_pivot['total_duration'], 0)\n",
    "\n",
    "display(data_pivot)"
   ]
  },
  {
   "cell_type": "code",
   "execution_count": 34,
   "id": "e2c917b7",
   "metadata": {},
   "outputs": [
    {
     "data": {
      "text/plain": [
       "total_distance       0\n",
       "total_duration       0\n",
       "trip_count           0\n",
       "subscription_type    0\n",
       "dtype: int64"
      ]
     },
     "execution_count": 34,
     "metadata": {},
     "output_type": "execute_result"
    }
   ],
   "source": [
    "data_pivot.isna().sum()"
   ]
  },
  {
   "cell_type": "markdown",
   "id": "c813a4ba",
   "metadata": {},
   "source": [
    "**Вывод**\n",
    "\n",
    "- Произвели построение сводной таблицы\n",
    "- Проеизвели проверку на пропуски в созданной таблице"
   ]
  },
  {
   "cell_type": "markdown",
   "id": "c7ae25e6",
   "metadata": {},
   "source": [
    "### В этот же датафрейм добавьте столбец с помесячной выручкой, которую принёс каждый пользователь."
   ]
  },
  {
   "cell_type": "code",
   "execution_count": 35,
   "id": "5c6b964c",
   "metadata": {},
   "outputs": [],
   "source": [
    "data_pivot['total_duration'] = round(data_pivot['total_duration'])"
   ]
  },
  {
   "cell_type": "code",
   "execution_count": 36,
   "id": "1411fce5",
   "metadata": {},
   "outputs": [
    {
     "data": {
      "text/html": [
       "<div>\n",
       "<style scoped>\n",
       "    .dataframe tbody tr th:only-of-type {\n",
       "        vertical-align: middle;\n",
       "    }\n",
       "\n",
       "    .dataframe tbody tr th {\n",
       "        vertical-align: top;\n",
       "    }\n",
       "\n",
       "    .dataframe thead th {\n",
       "        text-align: right;\n",
       "    }\n",
       "</style>\n",
       "<table border=\"1\" class=\"dataframe\">\n",
       "  <thead>\n",
       "    <tr style=\"text-align: right;\">\n",
       "      <th></th>\n",
       "      <th></th>\n",
       "      <th>total_distance</th>\n",
       "      <th>total_duration</th>\n",
       "      <th>trip_count</th>\n",
       "      <th>subscription_type</th>\n",
       "      <th>money_user</th>\n",
       "    </tr>\n",
       "    <tr>\n",
       "      <th>user_id</th>\n",
       "      <th>month</th>\n",
       "      <th></th>\n",
       "      <th></th>\n",
       "      <th></th>\n",
       "      <th></th>\n",
       "      <th></th>\n",
       "    </tr>\n",
       "  </thead>\n",
       "  <tbody>\n",
       "    <tr>\n",
       "      <th rowspan=\"5\" valign=\"top\">1</th>\n",
       "      <th>1</th>\n",
       "      <td>7027.511294</td>\n",
       "      <td>41.0</td>\n",
       "      <td>2</td>\n",
       "      <td>ultra</td>\n",
       "      <td>445.0</td>\n",
       "    </tr>\n",
       "    <tr>\n",
       "      <th>4</th>\n",
       "      <td>754.159807</td>\n",
       "      <td>6.0</td>\n",
       "      <td>1</td>\n",
       "      <td>ultra</td>\n",
       "      <td>235.0</td>\n",
       "    </tr>\n",
       "    <tr>\n",
       "      <th>8</th>\n",
       "      <td>6723.470560</td>\n",
       "      <td>45.0</td>\n",
       "      <td>2</td>\n",
       "      <td>ultra</td>\n",
       "      <td>469.0</td>\n",
       "    </tr>\n",
       "    <tr>\n",
       "      <th>10</th>\n",
       "      <td>5809.911100</td>\n",
       "      <td>32.0</td>\n",
       "      <td>2</td>\n",
       "      <td>ultra</td>\n",
       "      <td>391.0</td>\n",
       "    </tr>\n",
       "    <tr>\n",
       "      <th>11</th>\n",
       "      <td>7003.499363</td>\n",
       "      <td>53.0</td>\n",
       "      <td>3</td>\n",
       "      <td>ultra</td>\n",
       "      <td>517.0</td>\n",
       "    </tr>\n",
       "    <tr>\n",
       "      <th>...</th>\n",
       "      <th>...</th>\n",
       "      <td>...</td>\n",
       "      <td>...</td>\n",
       "      <td>...</td>\n",
       "      <td>...</td>\n",
       "      <td>...</td>\n",
       "    </tr>\n",
       "    <tr>\n",
       "      <th rowspan=\"5\" valign=\"top\">1534</th>\n",
       "      <th>6</th>\n",
       "      <td>3409.468534</td>\n",
       "      <td>25.0</td>\n",
       "      <td>2</td>\n",
       "      <td>free</td>\n",
       "      <td>300.0</td>\n",
       "    </tr>\n",
       "    <tr>\n",
       "      <th>8</th>\n",
       "      <td>7622.453034</td>\n",
       "      <td>47.0</td>\n",
       "      <td>2</td>\n",
       "      <td>free</td>\n",
       "      <td>476.0</td>\n",
       "    </tr>\n",
       "    <tr>\n",
       "      <th>9</th>\n",
       "      <td>4928.173852</td>\n",
       "      <td>23.0</td>\n",
       "      <td>1</td>\n",
       "      <td>free</td>\n",
       "      <td>234.0</td>\n",
       "    </tr>\n",
       "    <tr>\n",
       "      <th>11</th>\n",
       "      <td>13350.015305</td>\n",
       "      <td>76.0</td>\n",
       "      <td>4</td>\n",
       "      <td>free</td>\n",
       "      <td>808.0</td>\n",
       "    </tr>\n",
       "    <tr>\n",
       "      <th>12</th>\n",
       "      <td>2371.711192</td>\n",
       "      <td>16.0</td>\n",
       "      <td>1</td>\n",
       "      <td>free</td>\n",
       "      <td>178.0</td>\n",
       "    </tr>\n",
       "  </tbody>\n",
       "</table>\n",
       "<p>11331 rows × 5 columns</p>\n",
       "</div>"
      ],
      "text/plain": [
       "               total_distance  total_duration  trip_count subscription_type  \\\n",
       "user_id month                                                                 \n",
       "1       1         7027.511294            41.0           2             ultra   \n",
       "        4          754.159807             6.0           1             ultra   \n",
       "        8         6723.470560            45.0           2             ultra   \n",
       "        10        5809.911100            32.0           2             ultra   \n",
       "        11        7003.499363            53.0           3             ultra   \n",
       "...                       ...             ...         ...               ...   \n",
       "1534    6         3409.468534            25.0           2              free   \n",
       "        8         7622.453034            47.0           2              free   \n",
       "        9         4928.173852            23.0           1              free   \n",
       "        11       13350.015305            76.0           4              free   \n",
       "        12        2371.711192            16.0           1              free   \n",
       "\n",
       "               money_user  \n",
       "user_id month              \n",
       "1       1           445.0  \n",
       "        4           235.0  \n",
       "        8           469.0  \n",
       "        10          391.0  \n",
       "        11          517.0  \n",
       "...                   ...  \n",
       "1534    6           300.0  \n",
       "        8           476.0  \n",
       "        9           234.0  \n",
       "        11          808.0  \n",
       "        12          178.0  \n",
       "\n",
       "[11331 rows x 5 columns]"
      ]
     },
     "metadata": {},
     "output_type": "display_data"
    }
   ],
   "source": [
    "def money(row):\n",
    "    total_distance = row['total_distance']\n",
    "    total_duration = row['total_duration']\n",
    "    trip_count = row['trip_count']\n",
    "    subscription_type = row['subscription_type']\n",
    "    \n",
    "    if subscription_type == 'ultra':\n",
    "        return total_duration * 6 + 199\n",
    "    if subscription_type == 'free':\n",
    "        return total_duration * 8 + trip_count * 50\n",
    "\n",
    "\n",
    "\n",
    "data_pivot['money_user'] = data_pivot.apply(money, axis=1)\n",
    "display(data_pivot)"
   ]
  },
  {
   "cell_type": "markdown",
   "id": "bc064359",
   "metadata": {},
   "source": [
    "**Вывод**\n",
    "\n",
    "- Произвели округление времени каждой поездки\n",
    "- Добавили столбец с помесечной выручкой"
   ]
  },
  {
   "cell_type": "markdown",
   "id": "bf8a541e",
   "metadata": {},
   "source": [
    "## Проверка гипотез"
   ]
  },
  {
   "cell_type": "markdown",
   "id": "61213c5e",
   "metadata": {},
   "source": [
    "### Гипотеза 1: Тратят ли пользователи с подпиской больше времени на поездки"
   ]
  },
  {
   "cell_type": "code",
   "execution_count": 37,
   "id": "7d238fc4",
   "metadata": {},
   "outputs": [
    {
     "name": "stderr",
     "output_type": "stream",
     "text": [
      "/tmp/ipykernel_906/1231748515.py:1: SettingWithCopyWarning: \n",
      "A value is trying to be set on a copy of a slice from a DataFrame.\n",
      "Try using .loc[row_indexer,col_indexer] = value instead\n",
      "\n",
      "See the caveats in the documentation: https://pandas.pydata.org/pandas-docs/stable/user_guide/indexing.html#returning-a-view-versus-a-copy\n",
      "  user_is_a_subscription['duration'] = round(user_is_a_subscription['duration'])\n"
     ]
    }
   ],
   "source": [
    "user_is_a_subscription['duration'] = round(user_is_a_subscription['duration'])"
   ]
  },
  {
   "cell_type": "code",
   "execution_count": 38,
   "id": "95cd1d51",
   "metadata": {},
   "outputs": [
    {
     "name": "stdout",
     "output_type": "stream",
     "text": [
      "p =  5.120625508061543e-35\n",
      "Отвергаем нулевую гипотезу\n",
      "\n",
      "Средняя продолжительность аренды техники пользователями с подпиской: 18.55\n",
      "Средняя продолжительность аренды техники пользователями без подписки: 17.39\n",
      "\n",
      "Пользователи с подпиской арендуют технику на 1.16 минут больше, чем пользователи без подписки\n"
     ]
    }
   ],
   "source": [
    "alpha = 0.05\n",
    "\n",
    "results = st.ttest_ind(user_is_a_subscription['duration'], user_not_subscription['duration'], alternative = 'greater')\n",
    "print('p = ', results.pvalue)\n",
    "if results.pvalue < alpha:\n",
    "    print('Отвергаем нулевую гипотезу')\n",
    "else:\n",
    "    print('Не получилось отвергнуть нулевую гипотезу')\n",
    "\n",
    "print()    \n",
    "print('Средняя продолжительность аренды техники пользователями с подпиской:', \n",
    "      round(user_is_a_subscription['duration'].mean(), 2)) \n",
    "print('Средняя продолжительность аренды техники пользователями без подписки:', \n",
    "      round(user_not_subscription['duration'].mean(), 2))\n",
    "\n",
    "rent = round(round(user_is_a_subscription['duration'].mean(), 2) - round(user_not_subscription['duration'].mean(), 2), 2)\n",
    "print()\n",
    "\n",
    "print(f'Пользователи с подпиской арендуют технику на {rent} минут больше, чем пользователи без подписки')"
   ]
  },
  {
   "cell_type": "markdown",
   "id": "07f02a3f",
   "metadata": {},
   "source": [
    "### Гипотеза 2: Можно ли сказать, что расстояние, которое проезжают пользователи с подпиской за одну поездку, не превышает 3130 метров"
   ]
  },
  {
   "cell_type": "code",
   "execution_count": 39,
   "id": "7df963ac",
   "metadata": {
    "scrolled": true
   },
   "outputs": [
    {
     "name": "stdout",
     "output_type": "stream",
     "text": [
      "p =  0.9195368847849785\n",
      "Не отвергаем нулевую гипотезу\n",
      "\n",
      "Пользователи с подпиской проезжают 3115.45 метров\n"
     ]
    }
   ],
   "source": [
    "optimal = 3130\n",
    "\n",
    "results = st.ttest_1samp(\n",
    "    user_is_a_subscription['distance'],\n",
    "    optimal,\n",
    "    alternative='greater')\n",
    "\n",
    "print('p = ', results.pvalue)\n",
    "\n",
    "if (results.pvalue < alpha):\n",
    "    print('Отвергаем нулевую гипотезу')\n",
    "else:\n",
    "    print('Не отвергаем нулевую гипотезу') \n",
    "    \n",
    "print()\n",
    "print('Пользователи с подпиской проезжают', round(user_is_a_subscription['distance'].mean(),2), 'метров')"
   ]
  },
  {
   "cell_type": "markdown",
   "id": "82635701",
   "metadata": {},
   "source": [
    "### Гипотеза 3: Будет ли помесячная выручка от пользователей с подпиской по месяцам выше, чем выручка от пользователей без подписки"
   ]
  },
  {
   "cell_type": "code",
   "execution_count": 40,
   "id": "75efa967",
   "metadata": {},
   "outputs": [
    {
     "name": "stdout",
     "output_type": "stream",
     "text": [
      "p =  2.3492186178087955e-47\n",
      "Отвергаем нулевую гипотезу\n",
      "\n",
      "В среднем в месяц пользователи с подпиской тратят на аренду самокатов 358.54\n",
      "\n",
      "Средняя продолжительность аренды техники пользователями без подписки: 321.78\n",
      "\n",
      "Пользователи с подпиской тратят на 36.76 руб больше, чем пользователи без подписки\n"
     ]
    }
   ],
   "source": [
    "subscription_ultra = data_pivot.query('subscription_type == \"ultra\"')\n",
    "subscription_free = data_pivot.query('subscription_type == \"free\"')\n",
    "\n",
    "results = st.ttest_ind(subscription_ultra['money_user'],\n",
    "                       subscription_free['money_user'],\n",
    "                       equal_var=False, alternative = 'greater')\n",
    "\n",
    "print('p = ', results.pvalue)\n",
    "\n",
    "if results.pvalue < alpha:\n",
    "    print('Отвергаем нулевую гипотезу')\n",
    "else:\n",
    "    print('Не получилось отвергнуть нулевую гипотезу')\n",
    "    \n",
    "print()\n",
    "print('В среднем в месяц пользователи с подпиской тратят на аренду самокатов', \n",
    "      round(subscription_ultra['money_user'].mean(), 2))\n",
    "print()\n",
    "print('Средняя продолжительность аренды техники пользователями без подписки:',\n",
    "      round(subscription_free['money_user'].mean(), 2))\n",
    "print()\n",
    "res = round(round(subscription_ultra['money_user'].mean(), 2) - round(subscription_free['money_user'].mean(),2),2)\n",
    "print(f'Пользователи с подпиской тратят на {res} руб больше, чем пользователи без подписки')\n"
   ]
  },
  {
   "cell_type": "markdown",
   "id": "2947f53b",
   "metadata": {},
   "source": [
    "### Гипотеза 4"
   ]
  },
  {
   "cell_type": "markdown",
   "id": "8373f550",
   "metadata": {},
   "source": [
    "Для решения подобной задачи подойдет проверка гипотезы о равенстве средних для зависимых выборок, так как исходный датафрейм не изменился. Решить задачу можно методом scipy.stats.ttest_rel()"
   ]
  },
  {
   "cell_type": "markdown",
   "id": "ac448c84",
   "metadata": {},
   "source": [
    "# Вывод"
   ]
  },
  {
   "cell_type": "markdown",
   "id": "5cafe9ed",
   "metadata": {},
   "source": [
    "**Предобработка данных:**\n",
    "1. Данные в датасет подготовлены хорошо, нет пустых или нулевых значений\n",
    "2. Выполнили приведение к единому типу столбец date\n",
    "3. Была выполнена проверка на дубли, в файле `users_go` были обнаружены дубли. Скорее всего возникли при сбое в работе системы\n",
    "\n",
    "**Исследовательский анализ данных**\n",
    "1. Частота встречаемости городов: \n",
    "    - Больше всего пользователей находится в городе Пятигорск\n",
    "    - Меньше всего пользователей находится в городе Москва\n",
    "2. Сравнение пользователей с подпиской и без \n",
    "    - Кол-во пользователей без подписки 54.43%\n",
    "    - Кол- во пользователей с подпиской 45.57%\n",
    "3. Пользователей в [20 - 30] - больше остальных. Больше всего пользователей в возрасте 25 лет\n",
    "4. Чаще всего пользователи арендуют технику для передвижения в промежутке [2 до 4.5] км\n",
    "5. Чаще всего пользователи арендуют технику в промежутке [10 - 25] минут\n",
    "\n",
    "**Объединение данных**\n",
    "\n",
    "1. Большая часть кол-ва пользователей без подписки проезжает растояние в промежутке [2.1 - 4]км, когда пользователи с подпиской 3.2 км\n",
    "2. Чаще всего пользователи без подписки арендуют в промежутке [12 - 22] минут, когда пользователи с подпиской арендуют в промежутке [14 - 21] минута\n",
    "\n",
    "**Проверка гипотез**\n",
    "\n",
    "- Гипотеза 1 Пользователю у которых есть подписка арендуют технику больше всего на 1 минуту\n",
    "- Гипотеза 2 Пользователи с подпиской проезжают 3115.45 метров\n",
    "- Гипотеза 3 Пользователи с подпиской тратят на 36.76 руб больше, чем пользователи без подписки\n",
    "\n",
    "\n",
    "\n",
    "**Итог**\n",
    "\n",
    "1. Пользователей без подписки в текущей ситуации 11568 когда с подпиской 6500:\n",
    "    1.1 Для превлечения новых пользователей необходимо дополнительно провести анализ:\n",
    "        - Как часто пользователи продлевают подписку\n",
    "        - Какое событие влияет на продление подписки \n",
    "        \n",
    "        Если на подключение к подписке новых пользователей влияет акция посмотреть влияние акций на подписки\n",
    "        \n",
    "    1.2 Посмотреть в разрезе подписчиков какое кол-во людей продлевают на постоянной основе, какое кол- во от акции к акции. На основании можно предложить реализовать программу по удержанию пользователей как можно дольше\n",
    "    \n",
    "2. Провести опоросы пользователей с подпиской и без подписки:\n",
    "\n",
    "     - Для пользователей с подпиской - чем им нравится использование подписки \n",
    "     - Для пользователей без подписки - что бы они хотели улучшить \n",
    "     \n",
    "3. Провести аналитику в разрезе пользователей которые не используют и используют подписку:\n",
    "\n",
    "    - Для тех кто используют подписку - вывести сторис с суммой всего растояния которое приодолел юсер, количества раз использования, суммы экономия в месяц; `При условии если сумма экономии в месяц > суммы подписки`\n",
    "    \n",
    "    - Для тех кто не использует подписку - вывести сторис с суммой всего растояния которое приодолел юсер, количества раз использования, суммы возможного экономия в месяц при использовании подписки; `При условии если сумма экономии в месяц > суммы подписки`\n",
    "    \n",
    "4. Подумать о необходимости внедрения акции для привлечения пользователей использовать подписку, возможно стоит рассмотреть другие варианты использования, так разница выручки не значительно великая и можно разработать условия без подписки.\n",
    "\n",
    "К примеру: \n",
    "\n",
    "- Сконцентрироваться на привлечении пользователей использовать сервис аренды техники вне зависимости от подписки. "
   ]
  },
  {
   "cell_type": "code",
   "execution_count": null,
   "id": "5c9f2d79",
   "metadata": {},
   "outputs": [],
   "source": []
  }
 ],
 "metadata": {
  "ExecuteTimeLog": [
   {
    "duration": 1220,
    "start_time": "2023-06-05T09:57:58.925Z"
   },
   {
    "duration": 137,
    "start_time": "2023-06-05T09:58:37.738Z"
   },
   {
    "duration": 308,
    "start_time": "2023-06-05T09:59:10.992Z"
   },
   {
    "duration": 61,
    "start_time": "2023-06-05T09:59:22.587Z"
   },
   {
    "duration": 25,
    "start_time": "2023-06-05T09:59:28.777Z"
   },
   {
    "duration": 12,
    "start_time": "2023-06-05T09:59:51.619Z"
   },
   {
    "duration": 13,
    "start_time": "2023-06-05T10:00:05.233Z"
   },
   {
    "duration": 10,
    "start_time": "2023-06-05T10:00:17.354Z"
   },
   {
    "duration": 8,
    "start_time": "2023-06-05T10:02:04.473Z"
   },
   {
    "duration": 11,
    "start_time": "2023-06-05T10:02:11.949Z"
   },
   {
    "duration": 13,
    "start_time": "2023-06-05T10:02:34.507Z"
   },
   {
    "duration": 2,
    "start_time": "2023-06-05T10:02:50.874Z"
   },
   {
    "duration": 11,
    "start_time": "2023-06-05T10:03:03.205Z"
   },
   {
    "duration": 7,
    "start_time": "2023-06-05T10:03:11.461Z"
   },
   {
    "duration": 171,
    "start_time": "2023-06-05T10:54:55.639Z"
   },
   {
    "duration": 75,
    "start_time": "2023-06-05T10:55:20.845Z"
   },
   {
    "duration": 129,
    "start_time": "2023-06-05T10:55:49.852Z"
   },
   {
    "duration": 294,
    "start_time": "2023-06-05T10:56:22.413Z"
   },
   {
    "duration": 267,
    "start_time": "2023-06-05T10:56:51.104Z"
   },
   {
    "duration": 1472,
    "start_time": "2023-06-05T14:19:02.232Z"
   },
   {
    "duration": 107,
    "start_time": "2023-06-05T14:24:41.208Z"
   },
   {
    "duration": 6,
    "start_time": "2023-06-05T14:24:50.968Z"
   },
   {
    "duration": 407,
    "start_time": "2023-06-05T14:24:51.806Z"
   },
   {
    "duration": 37,
    "start_time": "2023-06-05T14:24:52.553Z"
   },
   {
    "duration": 15,
    "start_time": "2023-06-05T14:24:53.148Z"
   },
   {
    "duration": 15,
    "start_time": "2023-06-05T14:24:53.565Z"
   },
   {
    "duration": 13,
    "start_time": "2023-06-05T14:24:53.862Z"
   },
   {
    "duration": 11,
    "start_time": "2023-06-05T14:24:54.752Z"
   },
   {
    "duration": 15,
    "start_time": "2023-06-05T14:24:54.944Z"
   },
   {
    "duration": 27,
    "start_time": "2023-06-05T14:24:55.323Z"
   },
   {
    "duration": 10,
    "start_time": "2023-06-05T14:24:55.812Z"
   },
   {
    "duration": 17,
    "start_time": "2023-06-05T14:24:56.021Z"
   },
   {
    "duration": 200,
    "start_time": "2023-06-05T14:24:57.773Z"
   },
   {
    "duration": 103,
    "start_time": "2023-06-05T14:24:58.507Z"
   },
   {
    "duration": 158,
    "start_time": "2023-06-05T14:24:58.953Z"
   },
   {
    "duration": 339,
    "start_time": "2023-06-05T14:24:59.407Z"
   },
   {
    "duration": 382,
    "start_time": "2023-06-05T14:24:59.821Z"
   },
   {
    "duration": 31,
    "start_time": "2023-06-05T14:25:01.958Z"
   },
   {
    "duration": 38,
    "start_time": "2023-06-05T14:25:31.446Z"
   },
   {
    "duration": 3,
    "start_time": "2023-06-05T14:26:38.308Z"
   },
   {
    "duration": 6,
    "start_time": "2023-06-05T14:26:52.290Z"
   },
   {
    "duration": 135,
    "start_time": "2023-06-05T14:27:02.350Z"
   },
   {
    "duration": 52,
    "start_time": "2023-06-05T14:27:57.653Z"
   },
   {
    "duration": 307,
    "start_time": "2023-06-05T14:29:27.789Z"
   },
   {
    "duration": 324,
    "start_time": "2023-06-05T14:29:51.646Z"
   },
   {
    "duration": 314,
    "start_time": "2023-06-05T14:33:41.501Z"
   },
   {
    "duration": 317,
    "start_time": "2023-06-05T14:34:14.147Z"
   },
   {
    "duration": 399,
    "start_time": "2023-06-05T14:34:53.093Z"
   },
   {
    "duration": 401,
    "start_time": "2023-06-05T14:35:07.745Z"
   },
   {
    "duration": 305,
    "start_time": "2023-06-05T14:35:35.358Z"
   },
   {
    "duration": 293,
    "start_time": "2023-06-05T14:37:28.592Z"
   },
   {
    "duration": 328,
    "start_time": "2023-06-05T14:37:35.410Z"
   },
   {
    "duration": 863,
    "start_time": "2023-06-05T14:47:42.814Z"
   },
   {
    "duration": 897,
    "start_time": "2023-06-05T14:47:56.670Z"
   },
   {
    "duration": 5,
    "start_time": "2023-06-05T14:48:09.109Z"
   },
   {
    "duration": 25,
    "start_time": "2023-06-05T14:48:20.311Z"
   },
   {
    "duration": 26,
    "start_time": "2023-06-05T14:50:40.924Z"
   },
   {
    "duration": 1201,
    "start_time": "2023-06-05T14:50:48.308Z"
   },
   {
    "duration": 1350,
    "start_time": "2023-06-05T14:52:01.691Z"
   },
   {
    "duration": 280,
    "start_time": "2023-06-05T14:54:09.725Z"
   },
   {
    "duration": 14,
    "start_time": "2023-06-05T14:55:57.253Z"
   },
   {
    "duration": 13,
    "start_time": "2023-06-05T14:56:15.656Z"
   },
   {
    "duration": 11,
    "start_time": "2023-06-05T14:56:21.476Z"
   },
   {
    "duration": 13,
    "start_time": "2023-06-05T14:59:45.108Z"
   },
   {
    "duration": 15,
    "start_time": "2023-06-05T14:59:58.792Z"
   },
   {
    "duration": 13,
    "start_time": "2023-06-05T15:01:24.423Z"
   },
   {
    "duration": 12,
    "start_time": "2023-06-05T15:02:42.670Z"
   },
   {
    "duration": 7,
    "start_time": "2023-06-05T15:04:39.359Z"
   },
   {
    "duration": 11,
    "start_time": "2023-06-05T15:04:50.060Z"
   },
   {
    "duration": 1635,
    "start_time": "2023-06-05T15:07:30.551Z"
   },
   {
    "duration": 24,
    "start_time": "2023-06-05T15:08:04.109Z"
   },
   {
    "duration": 20,
    "start_time": "2023-06-05T15:08:22.513Z"
   },
   {
    "duration": 15,
    "start_time": "2023-06-05T15:08:40.859Z"
   },
   {
    "duration": 15,
    "start_time": "2023-06-05T15:08:49.592Z"
   },
   {
    "duration": 26,
    "start_time": "2023-06-05T15:08:59.709Z"
   },
   {
    "duration": 15,
    "start_time": "2023-06-05T15:11:04.747Z"
   },
   {
    "duration": 15,
    "start_time": "2023-06-05T15:11:55.443Z"
   },
   {
    "duration": 20,
    "start_time": "2023-06-05T15:13:14.550Z"
   },
   {
    "duration": 23,
    "start_time": "2023-06-05T15:13:24.222Z"
   },
   {
    "duration": 8,
    "start_time": "2023-06-05T15:28:10.302Z"
   },
   {
    "duration": 16,
    "start_time": "2023-06-05T15:29:09.190Z"
   },
   {
    "duration": 16,
    "start_time": "2023-06-05T15:30:03.044Z"
   },
   {
    "duration": 1226,
    "start_time": "2023-06-05T17:32:33.503Z"
   },
   {
    "duration": 321,
    "start_time": "2023-06-05T17:32:34.731Z"
   },
   {
    "duration": 24,
    "start_time": "2023-06-05T17:32:35.054Z"
   },
   {
    "duration": 17,
    "start_time": "2023-06-05T17:32:35.080Z"
   },
   {
    "duration": 30,
    "start_time": "2023-06-05T17:32:35.098Z"
   },
   {
    "duration": 27,
    "start_time": "2023-06-05T17:32:35.130Z"
   },
   {
    "duration": 47,
    "start_time": "2023-06-05T17:32:35.159Z"
   },
   {
    "duration": 13,
    "start_time": "2023-06-05T17:32:35.208Z"
   },
   {
    "duration": 19,
    "start_time": "2023-06-05T17:32:35.222Z"
   },
   {
    "duration": 9,
    "start_time": "2023-06-05T17:32:35.243Z"
   },
   {
    "duration": 6,
    "start_time": "2023-06-05T17:32:35.254Z"
   },
   {
    "duration": 201,
    "start_time": "2023-06-05T17:32:35.261Z"
   },
   {
    "duration": 107,
    "start_time": "2023-06-05T17:32:35.464Z"
   },
   {
    "duration": 172,
    "start_time": "2023-06-05T17:32:35.578Z"
   },
   {
    "duration": 298,
    "start_time": "2023-06-05T17:32:35.752Z"
   },
   {
    "duration": 260,
    "start_time": "2023-06-05T17:32:36.052Z"
   },
   {
    "duration": 23,
    "start_time": "2023-06-05T17:32:36.314Z"
   },
   {
    "duration": 53,
    "start_time": "2023-06-05T17:32:36.338Z"
   },
   {
    "duration": 34,
    "start_time": "2023-06-05T17:32:36.392Z"
   },
   {
    "duration": 31,
    "start_time": "2023-06-05T17:32:36.428Z"
   },
   {
    "duration": 333,
    "start_time": "2023-06-05T17:32:36.477Z"
   },
   {
    "duration": 252,
    "start_time": "2023-06-05T17:32:36.812Z"
   },
   {
    "duration": 258,
    "start_time": "2023-06-05T17:32:37.066Z"
   },
   {
    "duration": 322,
    "start_time": "2023-06-05T17:32:37.326Z"
   },
   {
    "duration": 722,
    "start_time": "2023-06-05T17:32:37.650Z"
   },
   {
    "duration": 165,
    "start_time": "2023-06-05T17:32:38.374Z"
   },
   {
    "duration": 7,
    "start_time": "2023-06-05T17:32:38.540Z"
   },
   {
    "duration": 9,
    "start_time": "2023-06-05T17:32:38.550Z"
   },
   {
    "duration": 26,
    "start_time": "2023-06-05T17:32:38.561Z"
   },
   {
    "duration": 6,
    "start_time": "2023-06-05T17:37:08.048Z"
   },
   {
    "duration": 7,
    "start_time": "2023-06-05T17:37:09.404Z"
   },
   {
    "duration": 112,
    "start_time": "2023-06-06T05:33:32.933Z"
   },
   {
    "duration": 47,
    "start_time": "2023-06-06T05:42:57.485Z"
   },
   {
    "duration": 5,
    "start_time": "2023-06-06T05:43:04.249Z"
   },
   {
    "duration": 7,
    "start_time": "2023-06-06T05:43:04.562Z"
   },
   {
    "duration": 1215,
    "start_time": "2023-06-06T05:43:09.018Z"
   },
   {
    "duration": 190,
    "start_time": "2023-06-06T05:43:11.316Z"
   },
   {
    "duration": 22,
    "start_time": "2023-06-06T05:43:12.150Z"
   },
   {
    "duration": 11,
    "start_time": "2023-06-06T05:43:15.657Z"
   },
   {
    "duration": 10,
    "start_time": "2023-06-06T05:43:16.299Z"
   },
   {
    "duration": 10,
    "start_time": "2023-06-06T05:43:16.907Z"
   },
   {
    "duration": 7,
    "start_time": "2023-06-06T05:43:19.599Z"
   },
   {
    "duration": 8,
    "start_time": "2023-06-06T05:43:20.945Z"
   },
   {
    "duration": 9,
    "start_time": "2023-06-06T05:43:23.173Z"
   },
   {
    "duration": 4,
    "start_time": "2023-06-06T05:44:11.838Z"
   },
   {
    "duration": 4,
    "start_time": "2023-06-06T05:44:24.951Z"
   },
   {
    "duration": 5,
    "start_time": "2023-06-06T05:45:54.924Z"
   },
   {
    "duration": 164,
    "start_time": "2023-06-06T05:49:44.818Z"
   },
   {
    "duration": 168,
    "start_time": "2023-06-06T05:51:00.737Z"
   },
   {
    "duration": 161,
    "start_time": "2023-06-06T05:51:11.974Z"
   },
   {
    "duration": 78,
    "start_time": "2023-06-06T05:53:18.267Z"
   },
   {
    "duration": 79,
    "start_time": "2023-06-06T05:56:31.833Z"
   },
   {
    "duration": 81,
    "start_time": "2023-06-06T05:57:14.959Z"
   },
   {
    "duration": 83,
    "start_time": "2023-06-06T05:57:54.109Z"
   },
   {
    "duration": 141,
    "start_time": "2023-06-06T05:58:52.167Z"
   },
   {
    "duration": 92,
    "start_time": "2023-06-06T05:59:20.099Z"
   },
   {
    "duration": 85,
    "start_time": "2023-06-06T05:59:27.474Z"
   },
   {
    "duration": 81,
    "start_time": "2023-06-06T05:59:34.200Z"
   },
   {
    "duration": 133,
    "start_time": "2023-06-06T06:02:46.301Z"
   },
   {
    "duration": 249,
    "start_time": "2023-06-06T06:07:00.424Z"
   },
   {
    "duration": 228,
    "start_time": "2023-06-06T06:07:28.233Z"
   },
   {
    "duration": 161,
    "start_time": "2023-06-06T06:10:40.291Z"
   },
   {
    "duration": 116,
    "start_time": "2023-06-06T06:10:57.618Z"
   },
   {
    "duration": 166,
    "start_time": "2023-06-06T06:12:14.033Z"
   },
   {
    "duration": 11,
    "start_time": "2023-06-06T06:12:44.937Z"
   },
   {
    "duration": 104,
    "start_time": "2023-06-06T06:14:12.959Z"
   },
   {
    "duration": 167,
    "start_time": "2023-06-06T06:15:19.419Z"
   },
   {
    "duration": 110,
    "start_time": "2023-06-06T06:15:39.517Z"
   },
   {
    "duration": 429,
    "start_time": "2023-06-06T06:18:17.706Z"
   },
   {
    "duration": 109,
    "start_time": "2023-06-06T06:18:32.574Z"
   },
   {
    "duration": 104,
    "start_time": "2023-06-06T06:19:30.551Z"
   },
   {
    "duration": 127,
    "start_time": "2023-06-06T06:20:25.418Z"
   },
   {
    "duration": 112,
    "start_time": "2023-06-06T06:21:33.016Z"
   },
   {
    "duration": 10,
    "start_time": "2023-06-06T06:23:27.683Z"
   },
   {
    "duration": 191,
    "start_time": "2023-06-06T06:26:13.916Z"
   },
   {
    "duration": 104,
    "start_time": "2023-06-06T06:28:01.502Z"
   },
   {
    "duration": 98,
    "start_time": "2023-06-06T06:28:35.492Z"
   },
   {
    "duration": 114,
    "start_time": "2023-06-06T06:30:32.940Z"
   },
   {
    "duration": 114,
    "start_time": "2023-06-06T06:31:32.756Z"
   },
   {
    "duration": 115,
    "start_time": "2023-06-06T06:36:37.339Z"
   },
   {
    "duration": 123,
    "start_time": "2023-06-06T06:37:44.201Z"
   },
   {
    "duration": 8,
    "start_time": "2023-06-06T06:56:36.677Z"
   },
   {
    "duration": 4,
    "start_time": "2023-06-06T06:56:47.843Z"
   },
   {
    "duration": 4,
    "start_time": "2023-06-06T07:00:06.684Z"
   },
   {
    "duration": 8,
    "start_time": "2023-06-06T07:01:03.244Z"
   },
   {
    "duration": 32,
    "start_time": "2023-06-06T07:01:10.711Z"
   },
   {
    "duration": 4,
    "start_time": "2023-06-06T07:01:13.636Z"
   },
   {
    "duration": 7,
    "start_time": "2023-06-06T07:02:43.236Z"
   },
   {
    "duration": 22,
    "start_time": "2023-06-06T07:50:10.284Z"
   },
   {
    "duration": 20,
    "start_time": "2023-06-06T07:50:40.902Z"
   },
   {
    "duration": 23,
    "start_time": "2023-06-06T07:51:00.734Z"
   },
   {
    "duration": 13,
    "start_time": "2023-06-06T07:51:28.402Z"
   },
   {
    "duration": 29,
    "start_time": "2023-06-06T08:22:20.266Z"
   },
   {
    "duration": 30,
    "start_time": "2023-06-06T08:22:26.624Z"
   },
   {
    "duration": 31,
    "start_time": "2023-06-06T08:22:55.024Z"
   },
   {
    "duration": 36,
    "start_time": "2023-06-06T08:23:10.188Z"
   },
   {
    "duration": 9,
    "start_time": "2023-06-06T08:24:15.975Z"
   },
   {
    "duration": 13,
    "start_time": "2023-06-06T08:24:27.633Z"
   },
   {
    "duration": 6,
    "start_time": "2023-06-06T08:24:50.898Z"
   },
   {
    "duration": 12,
    "start_time": "2023-06-06T08:25:07.650Z"
   },
   {
    "duration": 14,
    "start_time": "2023-06-06T08:28:26.695Z"
   },
   {
    "duration": 27,
    "start_time": "2023-06-06T08:28:33.416Z"
   },
   {
    "duration": 26,
    "start_time": "2023-06-06T08:29:05.749Z"
   },
   {
    "duration": 12,
    "start_time": "2023-06-06T08:31:41.259Z"
   },
   {
    "duration": 32,
    "start_time": "2023-06-06T08:32:15.824Z"
   },
   {
    "duration": 27,
    "start_time": "2023-06-06T08:32:19.832Z"
   },
   {
    "duration": 15,
    "start_time": "2023-06-06T08:32:35.284Z"
   },
   {
    "duration": 27,
    "start_time": "2023-06-06T08:32:35.835Z"
   },
   {
    "duration": 30,
    "start_time": "2023-06-06T08:32:39.167Z"
   },
   {
    "duration": 26,
    "start_time": "2023-06-06T08:32:41.816Z"
   },
   {
    "duration": 223,
    "start_time": "2023-06-06T08:32:46.350Z"
   },
   {
    "duration": 218,
    "start_time": "2023-06-06T08:32:49.530Z"
   },
   {
    "duration": 8,
    "start_time": "2023-06-06T08:35:24.699Z"
   },
   {
    "duration": 16,
    "start_time": "2023-06-06T08:35:31.399Z"
   },
   {
    "duration": 29,
    "start_time": "2023-06-06T08:35:51.470Z"
   },
   {
    "duration": 25,
    "start_time": "2023-06-06T08:35:52.758Z"
   },
   {
    "duration": 302,
    "start_time": "2023-06-06T08:35:54.783Z"
   },
   {
    "duration": 273,
    "start_time": "2023-06-06T08:35:55.336Z"
   },
   {
    "duration": 229,
    "start_time": "2023-06-06T08:35:57.081Z"
   },
   {
    "duration": 233,
    "start_time": "2023-06-06T08:35:57.482Z"
   },
   {
    "duration": 16,
    "start_time": "2023-06-06T08:36:01.332Z"
   },
   {
    "duration": 28,
    "start_time": "2023-06-06T08:36:31.033Z"
   },
   {
    "duration": 27,
    "start_time": "2023-06-06T08:36:34.321Z"
   },
   {
    "duration": 238,
    "start_time": "2023-06-06T08:36:39.732Z"
   },
   {
    "duration": 297,
    "start_time": "2023-06-06T08:36:40.806Z"
   },
   {
    "duration": 240,
    "start_time": "2023-06-06T08:36:43.625Z"
   },
   {
    "duration": 247,
    "start_time": "2023-06-06T08:36:44.533Z"
   },
   {
    "duration": 153,
    "start_time": "2023-06-06T08:37:50.817Z"
   },
   {
    "duration": 121,
    "start_time": "2023-06-06T08:37:51.700Z"
   },
   {
    "duration": 82,
    "start_time": "2023-06-06T08:37:55.150Z"
   },
   {
    "duration": 137,
    "start_time": "2023-06-06T08:37:57.516Z"
   },
   {
    "duration": 100,
    "start_time": "2023-06-06T08:37:58.266Z"
   },
   {
    "duration": 340,
    "start_time": "2023-06-06T08:38:00.337Z"
   },
   {
    "duration": 123,
    "start_time": "2023-06-06T08:38:02.722Z"
   },
   {
    "duration": 257,
    "start_time": "2023-06-06T08:38:05.016Z"
   },
   {
    "duration": 130,
    "start_time": "2023-06-06T08:38:05.616Z"
   },
   {
    "duration": 38,
    "start_time": "2023-06-06T08:38:16.682Z"
   },
   {
    "duration": 22,
    "start_time": "2023-06-06T08:38:17.483Z"
   },
   {
    "duration": 13,
    "start_time": "2023-06-06T08:38:18.255Z"
   },
   {
    "duration": 16,
    "start_time": "2023-06-06T08:38:21.073Z"
   },
   {
    "duration": 27,
    "start_time": "2023-06-06T08:38:21.633Z"
   },
   {
    "duration": 28,
    "start_time": "2023-06-06T08:38:23.572Z"
   },
   {
    "duration": 27,
    "start_time": "2023-06-06T08:38:24.851Z"
   },
   {
    "duration": 226,
    "start_time": "2023-06-06T08:38:27.148Z"
   },
   {
    "duration": 226,
    "start_time": "2023-06-06T08:38:27.766Z"
   },
   {
    "duration": 239,
    "start_time": "2023-06-06T08:38:31.249Z"
   },
   {
    "duration": 332,
    "start_time": "2023-06-06T08:38:31.760Z"
   },
   {
    "duration": 18,
    "start_time": "2023-06-06T08:38:36.983Z"
   },
   {
    "duration": 6,
    "start_time": "2023-06-06T08:40:01.988Z"
   },
   {
    "duration": 66,
    "start_time": "2023-06-06T08:40:03.166Z"
   },
   {
    "duration": 19,
    "start_time": "2023-06-06T08:40:03.635Z"
   },
   {
    "duration": 14,
    "start_time": "2023-06-06T08:40:05.186Z"
   },
   {
    "duration": 11,
    "start_time": "2023-06-06T08:40:05.817Z"
   },
   {
    "duration": 9,
    "start_time": "2023-06-06T08:40:06.422Z"
   },
   {
    "duration": 6,
    "start_time": "2023-06-06T08:40:08.883Z"
   },
   {
    "duration": 10,
    "start_time": "2023-06-06T08:40:09.450Z"
   },
   {
    "duration": 6,
    "start_time": "2023-06-06T08:40:10.533Z"
   },
   {
    "duration": 11,
    "start_time": "2023-06-06T08:40:11.583Z"
   },
   {
    "duration": 9,
    "start_time": "2023-06-06T08:40:13.143Z"
   },
   {
    "duration": 7,
    "start_time": "2023-06-06T08:40:13.666Z"
   },
   {
    "duration": 163,
    "start_time": "2023-06-06T08:40:15.874Z"
   },
   {
    "duration": 109,
    "start_time": "2023-06-06T08:40:16.458Z"
   },
   {
    "duration": 81,
    "start_time": "2023-06-06T08:40:18.235Z"
   },
   {
    "duration": 137,
    "start_time": "2023-06-06T08:40:20.067Z"
   },
   {
    "duration": 101,
    "start_time": "2023-06-06T08:40:20.600Z"
   },
   {
    "duration": 243,
    "start_time": "2023-06-06T08:40:22.101Z"
   },
   {
    "duration": 119,
    "start_time": "2023-06-06T08:40:22.571Z"
   },
   {
    "duration": 325,
    "start_time": "2023-06-06T08:40:24.710Z"
   },
   {
    "duration": 159,
    "start_time": "2023-06-06T08:40:25.390Z"
   },
   {
    "duration": 48,
    "start_time": "2023-06-06T08:40:30.443Z"
   },
   {
    "duration": 32,
    "start_time": "2023-06-06T08:40:31.238Z"
   },
   {
    "duration": 16,
    "start_time": "2023-06-06T08:40:35.352Z"
   },
   {
    "duration": 22,
    "start_time": "2023-06-06T08:40:36.411Z"
   },
   {
    "duration": 29,
    "start_time": "2023-06-06T08:40:36.968Z"
   },
   {
    "duration": 49,
    "start_time": "2023-06-06T08:40:39.141Z"
   },
   {
    "duration": 30,
    "start_time": "2023-06-06T08:40:40.420Z"
   },
   {
    "duration": 236,
    "start_time": "2023-06-06T08:40:42.505Z"
   },
   {
    "duration": 229,
    "start_time": "2023-06-06T08:40:42.953Z"
   },
   {
    "duration": 224,
    "start_time": "2023-06-06T08:40:43.878Z"
   },
   {
    "duration": 237,
    "start_time": "2023-06-06T08:40:44.115Z"
   },
   {
    "duration": 853,
    "start_time": "2023-06-06T08:40:47.233Z"
   },
   {
    "duration": 936,
    "start_time": "2023-06-06T08:41:01.391Z"
   },
   {
    "duration": 6,
    "start_time": "2023-06-06T08:41:02.329Z"
   },
   {
    "duration": 248,
    "start_time": "2023-06-06T08:45:51.218Z"
   },
   {
    "duration": 272,
    "start_time": "2023-06-06T08:47:12.867Z"
   },
   {
    "duration": 15,
    "start_time": "2023-06-06T08:53:48.906Z"
   },
   {
    "duration": 16,
    "start_time": "2023-06-06T08:53:57.505Z"
   },
   {
    "duration": 18,
    "start_time": "2023-06-06T08:54:32.759Z"
   },
   {
    "duration": 14,
    "start_time": "2023-06-06T08:54:43.384Z"
   },
   {
    "duration": 17,
    "start_time": "2023-06-06T08:54:52.818Z"
   },
   {
    "duration": 16,
    "start_time": "2023-06-06T08:55:03.835Z"
   },
   {
    "duration": 18,
    "start_time": "2023-06-06T08:57:38.134Z"
   },
   {
    "duration": 15,
    "start_time": "2023-06-06T08:58:04.035Z"
   },
   {
    "duration": 172,
    "start_time": "2023-06-06T08:58:42.674Z"
   },
   {
    "duration": 12,
    "start_time": "2023-06-06T09:00:35.884Z"
   },
   {
    "duration": 4,
    "start_time": "2023-06-06T09:01:40.319Z"
   },
   {
    "duration": 1165,
    "start_time": "2023-06-06T09:02:18.050Z"
   },
   {
    "duration": 4,
    "start_time": "2023-06-06T09:02:45.586Z"
   },
   {
    "duration": 9,
    "start_time": "2023-06-06T09:02:54.156Z"
   },
   {
    "duration": 7,
    "start_time": "2023-06-06T09:03:56.216Z"
   },
   {
    "duration": 6,
    "start_time": "2023-06-06T09:04:06.599Z"
   },
   {
    "duration": 5,
    "start_time": "2023-06-06T09:04:11.383Z"
   },
   {
    "duration": 8,
    "start_time": "2023-06-06T09:04:54.784Z"
   },
   {
    "duration": 10,
    "start_time": "2023-06-06T09:04:59.519Z"
   },
   {
    "duration": 15,
    "start_time": "2023-06-06T09:08:24.023Z"
   },
   {
    "duration": 1142,
    "start_time": "2023-06-06T13:47:31.680Z"
   },
   {
    "duration": 279,
    "start_time": "2023-06-06T13:47:32.824Z"
   },
   {
    "duration": 24,
    "start_time": "2023-06-06T13:47:33.105Z"
   },
   {
    "duration": 11,
    "start_time": "2023-06-06T13:47:33.132Z"
   },
   {
    "duration": 23,
    "start_time": "2023-06-06T13:47:33.144Z"
   },
   {
    "duration": 12,
    "start_time": "2023-06-06T13:47:33.169Z"
   },
   {
    "duration": 11,
    "start_time": "2023-06-06T13:47:33.183Z"
   },
   {
    "duration": 31,
    "start_time": "2023-06-06T13:47:33.196Z"
   },
   {
    "duration": 15,
    "start_time": "2023-06-06T13:47:33.229Z"
   },
   {
    "duration": 17,
    "start_time": "2023-06-06T13:47:33.247Z"
   },
   {
    "duration": 10,
    "start_time": "2023-06-06T13:47:33.265Z"
   },
   {
    "duration": 6,
    "start_time": "2023-06-06T13:47:33.277Z"
   },
   {
    "duration": 211,
    "start_time": "2023-06-06T13:47:33.284Z"
   },
   {
    "duration": 129,
    "start_time": "2023-06-06T13:47:33.497Z"
   },
   {
    "duration": 93,
    "start_time": "2023-06-06T13:47:33.628Z"
   },
   {
    "duration": 162,
    "start_time": "2023-06-06T13:47:33.723Z"
   },
   {
    "duration": 121,
    "start_time": "2023-06-06T13:47:33.887Z"
   },
   {
    "duration": 329,
    "start_time": "2023-06-06T13:47:34.010Z"
   },
   {
    "duration": 143,
    "start_time": "2023-06-06T13:47:34.341Z"
   },
   {
    "duration": 359,
    "start_time": "2023-06-06T13:47:34.486Z"
   },
   {
    "duration": 135,
    "start_time": "2023-06-06T13:47:34.850Z"
   },
   {
    "duration": 64,
    "start_time": "2023-06-06T13:47:34.986Z"
   },
   {
    "duration": 23,
    "start_time": "2023-06-06T13:47:35.052Z"
   },
   {
    "duration": 13,
    "start_time": "2023-06-06T13:47:35.077Z"
   },
   {
    "duration": 38,
    "start_time": "2023-06-06T13:47:35.092Z"
   },
   {
    "duration": 35,
    "start_time": "2023-06-06T13:47:35.132Z"
   },
   {
    "duration": 32,
    "start_time": "2023-06-06T13:47:35.169Z"
   },
   {
    "duration": 48,
    "start_time": "2023-06-06T13:47:35.204Z"
   },
   {
    "duration": 277,
    "start_time": "2023-06-06T13:47:35.253Z"
   },
   {
    "duration": 274,
    "start_time": "2023-06-06T13:47:35.531Z"
   },
   {
    "duration": 268,
    "start_time": "2023-06-06T13:47:35.807Z"
   },
   {
    "duration": 285,
    "start_time": "2023-06-06T13:47:36.077Z"
   },
   {
    "duration": 809,
    "start_time": "2023-06-06T13:47:36.364Z"
   },
   {
    "duration": 8,
    "start_time": "2023-06-06T13:47:37.175Z"
   },
   {
    "duration": 15,
    "start_time": "2023-06-06T13:47:37.185Z"
   },
   {
    "duration": 275,
    "start_time": "2023-06-06T13:47:37.202Z"
   },
   {
    "duration": 5,
    "start_time": "2023-06-06T13:47:37.479Z"
   },
   {
    "duration": 14,
    "start_time": "2023-06-06T13:47:37.486Z"
   },
   {
    "duration": 13,
    "start_time": "2023-06-06T13:47:37.502Z"
   },
   {
    "duration": 29,
    "start_time": "2023-06-06T13:47:37.517Z"
   }
  ],
  "kernelspec": {
   "display_name": "Python 3 (ipykernel)",
   "language": "python",
   "name": "python3"
  },
  "language_info": {
   "codemirror_mode": {
    "name": "ipython",
    "version": 3
   },
   "file_extension": ".py",
   "mimetype": "text/x-python",
   "name": "python",
   "nbconvert_exporter": "python",
   "pygments_lexer": "ipython3",
   "version": "3.10.9"
  },
  "toc": {
   "base_numbering": 1,
   "nav_menu": {},
   "number_sections": true,
   "sideBar": true,
   "skip_h1_title": true,
   "title_cell": "Table of Contents",
   "title_sidebar": "Contents",
   "toc_cell": false,
   "toc_position": {
    "height": "calc(100% - 180px)",
    "left": "10px",
    "top": "150px",
    "width": "265.398px"
   },
   "toc_section_display": true,
   "toc_window_display": true
  }
 },
 "nbformat": 4,
 "nbformat_minor": 5
}
